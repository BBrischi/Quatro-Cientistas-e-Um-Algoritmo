{
 "cells": [
  {
   "cell_type": "markdown",
   "metadata": {},
   "source": [
    "Somando variáveis aleatórias\n",
    "============================\n",
    "\n"
   ]
  },
  {
   "cell_type": "markdown",
   "metadata": {},
   "source": [
    "## Objetivo\n",
    "\n"
   ]
  },
  {
   "cell_type": "markdown",
   "metadata": {},
   "source": [
    "Crie dois arrays de mesmo tamanho que representam variáveis aleatórias (certifique-se que os arrays têm pelo menos 50 itens e não são correlacionados). Teste o que acontece com os valores da média, variância e do desvio padrão quando somamos duas variáveis aleatórias. Após testar, escreva um breve texto sobre o que observou. Por fim, se informe em livros ou na internet sobre a matemática por trás desta conta (ou derive o resultado você mesmo caso queira esse desafio).\n",
    "\n",
    "**Dica**: uma estratégia para criar seus arrays é sorteando valores a partir de diferentes distribuições. A distribuição normal é uma escolha possível, mas pode escolher outras se preferir.\n",
    "\n"
   ]
  },
  {
   "cell_type": "markdown",
   "metadata": {},
   "source": [
    "## Imports, estatísticas e funções"
   ]
  },
  {
   "cell_type": "markdown",
   "metadata": {},
   "source": [
    "<p style='text-align: justify'> Para essa quest, vamos utilizar os módulos <code>numpy</code> e <code>statistics</code> para realizar a parte matemática. Além disso, funções de média (<code>media</code>), variância (<code>variancia</code>), desvio padrão (<code>desvio_pd</code>) e covarância(<code>covariância</code>). Além disso, para criar os arrays, criamos a lista <code>tamanho_das_arrays</code> que passará por um loop for a fim de computar diversas estatísticas, como média, variância, desvio padrão e covariâncoa com as funções definidas."
   ]
  },
  {
   "cell_type": "code",
   "execution_count": 8,
   "metadata": {},
   "outputs": [
    {
     "name": "stdout",
     "output_type": "stream",
     "text": [
      "\n",
      "O tamanho das arrays é de 10 itens\n",
      "\n",
      "A média da array 1 é 0.0027680091894953227\n",
      "A variancia da array 1 é 1.1567756551706077\n",
      "O desvio padrão da array 1 é 1.0755350552960177\n",
      "\n",
      "A média da array 2 é -0.1803747081645186\n",
      "A variancia da array 2 é 0.1916730781907912\n",
      "O desvio padrão da array 2 é 0.4378048403007797\n",
      "\n",
      "A média da soma das arrays é -0.17760669897502324\n",
      "A variancia da soma das arrays é 1.1143702754932945\n",
      "O desvio padrão da soma das arrays é 1.0556373787874767\n",
      "\n",
      "a covariância entre as arrays era de -0.13004358770450242\n",
      "________________________________________________________________________\n",
      "\n",
      "O tamanho das arrays é de 50 itens\n",
      "\n",
      "A média da array 1 é 0.045008988064890496\n",
      "A variancia da array 1 é 0.8858930744792766\n",
      "O desvio padrão da array 1 é 0.941218930153488\n",
      "\n",
      "A média da array 2 é -0.10220609747512292\n",
      "A variancia da array 2 é 0.9432709623830179\n",
      "O desvio padrão da array 2 é 0.9712213766093793\n",
      "\n",
      "A média da soma das arrays é -0.05719710941023244\n",
      "A variancia da soma das arrays é 1.8565417938824174\n",
      "O desvio padrão da soma das arrays é 1.3625497399663682\n",
      "\n",
      "a covariância entre as arrays era de 0.013968243377613737\n",
      "________________________________________________________________________\n",
      "\n",
      "O tamanho das arrays é de 100 itens\n",
      "\n",
      "A média da array 1 é 0.09967827178404363\n",
      "A variancia da array 1 é 0.9843126170230779\n",
      "O desvio padrão da array 1 é 0.9921253030857936\n",
      "\n",
      "A média da array 2 é -0.10693234996000091\n",
      "A variancia da array 2 é 1.0280400603311382\n",
      "O desvio padrão da array 2 é 1.0139231037564624\n",
      "\n",
      "A média da soma das arrays é -0.007254078175957265\n",
      "A variancia da soma das arrays é 2.2340940660202055\n",
      "O desvio padrão da soma das arrays é 1.494688618415289\n",
      "\n",
      "a covariância entre as arrays era de 0.11199060033635841\n",
      "________________________________________________________________________\n",
      "\n",
      "O tamanho das arrays é de 1000 itens\n",
      "\n",
      "A média da array 1 é -0.016805276215658454\n",
      "A variancia da array 1 é 0.9782165618717281\n",
      "O desvio padrão da array 1 é 0.9890483111919903\n",
      "\n",
      "A média da array 2 é 0.03453652872878241\n",
      "A variancia da array 2 é 0.9382487119658396\n",
      "O desvio padrão da array 2 é 0.9686323925854635\n",
      "\n",
      "A média da soma das arrays é 0.01773125251312396\n",
      "A variancia da soma das arrays é 2.029285669621444\n",
      "O desvio padrão da soma das arrays é 1.4245299820015878\n",
      "\n",
      "a covariância entre as arrays era de 0.056466664556494565\n",
      "________________________________________________________________________\n",
      "\n",
      "O tamanho das arrays é de 10000 itens\n",
      "\n",
      "A média da array 1 é -0.01459131208264455\n",
      "A variancia da array 1 é 0.9844527399397093\n",
      "O desvio padrão da array 1 é 0.9921959181228822\n",
      "\n",
      "A média da array 2 é 0.004798174638506085\n",
      "A variancia da array 2 é 0.9953194286693257\n",
      "O desvio padrão da array 2 é 0.9976569694385569\n",
      "\n",
      "A média da soma das arrays é -0.009793137444138464\n",
      "A variancia da soma das arrays é 2.0065839553742704\n",
      "O desvio padrão da soma das arrays é 1.4165394295162668\n",
      "\n",
      "a covariância entre as arrays era de 0.013407234106028343\n",
      "________________________________________________________________________\n"
     ]
    }
   ],
   "source": [
    "import numpy as np\n",
    "import statistics as st\n",
    "\n",
    "\n",
    "def media(array):\n",
    "    \"\"\"Calcula a média a partir de um array.\n",
    "  \n",
    "      A função recebe um array e calcula a média usando a função \"mean\",\n",
    "      retornando-a\n",
    "\n",
    "      Args:\n",
    "        array: Recebe um array com os valores que serão calculados.\n",
    "\n",
    "      Returns:\n",
    "        Retorna o valor da média\n",
    "      \"\"\"\n",
    "    media = st.mean(array)\n",
    "    return media\n",
    "\n",
    "\n",
    "def variancia(array):\n",
    "    \"\"\"Calcula o desvio padrão a partir de um array.\n",
    "\n",
    "    A função recebe um array e calcula a variância usando a função \"pvariance\",\n",
    "    retornando-a\n",
    "\n",
    "  Args:\n",
    "    array: Recebe um array com os valores que serão calculados.\n",
    "\n",
    "  Returns:\n",
    "    Retorna o valor da variância.\n",
    "    \"\"\"\n",
    "    variancia = st.pvariance(array)\n",
    "    return variancia\n",
    "\n",
    "\n",
    "def desvio_pd(array):\n",
    "    \"\"\"Calcula o desvio padrão a partir de um array.\n",
    "\n",
    "    A função recebe um array e calcula o desvio padrão usando a função \"pstdev\",\n",
    "    retornando-a\n",
    "\n",
    "    Args:\n",
    "        array: Recebe um array com os valores que serão calculados.\n",
    "\n",
    "    Returns:\n",
    "        Retorna o valor do desvio padrão.\n",
    "    \"\"\"\n",
    "    desvio = st.pstdev(array)\n",
    "    return desvio\n",
    "\n",
    "\n",
    "def cov(array1, array2):\n",
    "    \"\"\"Calcula a covariância.\n",
    "\n",
    "    A função recebe duas arrays e calcula a covariância usando a função \"covariance\",\n",
    "    retornando-a\n",
    "\n",
    "    Args:\n",
    "        array1: Recebe um array com os valores que serão calculados.\n",
    "        array2: Recebe outra array com os valores que serão calculados.\n",
    "\n",
    "    Returns:\n",
    "        Retorna o valor do desvio padrão.\n",
    "    \"\"\"\n",
    "    covariancia = st.covariance(array1, array2)\n",
    "    return covariancia\n",
    "\n",
    "\n",
    "tamanho_das_arrays = [10, 50, 100, 1000,10000]\n",
    " \n",
    "\n",
    "for tamanho in tamanho_das_arrays:\n",
    "    array1 = np.random.normal(size=tamanho)\n",
    "    array2 = np.random.normal(size=tamanho)\n",
    "\n",
    "\n",
    "    print(f\"\\nO tamanho das arrays é de {tamanho} itens\\n\")\n",
    "\n",
    "    media_array1 = media(array1)\n",
    "    print(f\"A média da array 1 é {media_array1}\")\n",
    "    variancia_array1 = variancia(array1)\n",
    "    print(f\"A variancia da array 1 é {variancia_array1}\")\n",
    "    desvio_padrao_array1 = desvio_pd(array1)\n",
    "    print(f\"O desvio padrão da array 1 é {desvio_padrao_array1}\\n\")\n",
    "\n",
    " \n",
    "    media_array2 = media(array2)\n",
    "    print(f\"A média da array 2 é {media_array2}\")\n",
    "    variancia_array2 = variancia(array2)\n",
    "    print(f\"A variancia da array 2 é {variancia_array2}\")\n",
    "    desvio_padrao_array2 = desvio_pd(array2)\n",
    "    print(f\"O desvio padrão da array 2 é {desvio_padrao_array2}\\n\")\n",
    "\n",
    "\n",
    "    soma_das_arrays = array1 + array2\n",
    "    media_array_soma = media(soma_das_arrays)\n",
    "    print(f\"A média da soma das arrays é {media_array_soma}\")\n",
    "    variancia_soma_das_arrays = variancia(soma_das_arrays)\n",
    "    print(f\"A variancia da soma das arrays é {variancia_soma_das_arrays}\")\n",
    "    dp_soma_das_arrays = desvio_pd(soma_das_arrays)\n",
    "    print(f\"O desvio padrão da soma das arrays é {dp_soma_das_arrays}\\n\")\n",
    "\n",
    "     \n",
    "    covariancia_entre_as_arrays = cov(array1, array2)\n",
    "    print(f\"a covariância entre as arrays era de {covariancia_entre_as_arrays}\")\n",
    "    print(\"________________________________________________________________________\") #so pra organizar"
   ]
  },
  {
   "cell_type": "markdown",
   "metadata": {},
   "source": [
    "## Resultado e discussão\n",
    "\n"
   ]
  },
  {
   "cell_type": "markdown",
   "metadata": {},
   "source": [
    "### Média: soma das médias é igual à média das somas"
   ]
  },
  {
   "cell_type": "markdown",
   "metadata": {},
   "source": [
    "<p style='text-align:justify'> Para análise da média, criamos um loop que gerasse novos arrays (a fim de evitar problemas quando células fossem rodadas individualmente) e calculamos a média das variáveis aleatórias e a soma das médias entre elas."
   ]
  },
  {
   "cell_type": "code",
   "execution_count": 9,
   "metadata": {},
   "outputs": [
    {
     "name": "stdout",
     "output_type": "stream",
     "text": [
      "\n",
      " Para a array de 10 itens:\n",
      " a soma das médias é -0.24873565823482413; e a média das somas é -0.24873565823482408\n",
      "\n",
      " Para a array de 50 itens:\n",
      " a soma das médias é 0.3062182148960805; e a média das somas é 0.3062182148960804\n",
      "\n",
      " Para a array de 100 itens:\n",
      " a soma das médias é 0.035546273006144304; e a média das somas é 0.035546273006144304\n",
      "\n",
      " Para a array de 1000 itens:\n",
      " a soma das médias é -0.039436668125309764; e a média das somas é -0.039436668125309764\n",
      "\n",
      " Para a array de 10000 itens:\n",
      " a soma das médias é 0.010232778711890078; e a média das somas é 0.010232778711890078\n"
     ]
    }
   ],
   "source": [
    "for tamanho in tamanho_das_arrays:\n",
    "    array1 = np.random.normal(size=tamanho)\n",
    "    array2 = np.random.normal(size=tamanho)\n",
    "    media_array1 = media(array1)\n",
    "    media_array2 = media(array2)\n",
    "    soma_das_arrays = array1 + array2\n",
    "    media_array_soma = media(soma_das_arrays)\n",
    "    \n",
    "    print(f\"\\n Para a array de {tamanho} itens:\")\n",
    "    print(f\" a soma das médias é {media_array1 + media_array2}; e a média das somas é {media_array_soma}\")"
   ]
  },
  {
   "cell_type": "markdown",
   "metadata": {},
   "source": [
    "<p style='text-align:justify'>Uma vez comparando os resultados, uma observação que se mantém constante independente do tamanho das arrays que estão sendo somadas é que <b>a soma das médias das duas arrays é igual a média das soma das arrays</b>\n",
    "\n",
    "Esta conta pode ser entendida de maneira bem intuitiva: \n",
    "\n",
    "Quando você soma duas arrays $A$ e $B$, a soma de cada par de elementos correspondentes resulta em uma nova array, que chamaremos de $S$ (a array de soma). Matematicamente, isso pode ser expresso como:\n",
    "\n",
    "$$ S_i = A_i + B_i $$\n",
    "\n",
    "onde $S_i$ é o elemento da array de soma $S$ na posição $i$, $A_i$ é o elemento da array $A$ na posição $i$, e $B_i$ é o elemento da array $B$ na posição $i$.\n",
    "\n",
    "A média de uma array é a soma de todos os seus elementos dividida pelo número total de elementos. Assim, essas são as médias das arrays $A$ e $B$:\n",
    "\n",
    "$$ \\text{Média(A)} = \\frac{A_1 + A_2 + A_3 + \\ldots}{\\text{número total de elementos em } A} $$\n",
    "\n",
    "$$ \\text{Média(B)} = \\frac{B_1 + B_2 + B_3 + \\ldots}{\\text{número total de elementos em } B} $$\n",
    "\n",
    "Agora, a média da array de soma $S$ seria:\n",
    "\n",
    "$$ \\text{Média(S)} = \\frac{S_1 + S_2 + S_3 + \\ldots}{\\text{número total de elementos em } S} $$\n",
    "\n",
    "Substituindo os valores de $S_i$ (que é $A_i + B_i$):\n",
    "\n",
    "$$ \\text{Média(S)} = \\frac{A_1 + B_1 + A_2 + B_2 + A_3 + B_3 + \\ldots}{\\text{número total de elementos em } S} $$\n",
    "\n",
    "Agora, é possível perceber que os todos os termos $A_1, A_2, A_3, \\ldots$ e $B_1, B_2, B_3, \\ldots$ aparecem na média. Isso significa que podemos separar os termos:\n",
    "\n",
    "$$ \\text{Média(S)} = \\frac{A_1 + A_2 + A_3 + \\ldots}{\\text{número total de elementos em } S} + \\frac{B_1 + B_2 + B_3 + \\ldots}{\\text{número total de elementos em } S} $$\n",
    "\n",
    "\n",
    "Uma observação importante é que todas as arrays têm o mesmo número de elementos.\n",
    "$$\\text{número total de elementos em } S = \\text{número total de elementos em } A = \\text{número total de elementos em } B$$\n",
    "\n",
    "Agora, observe as médias de $A$ e $B$ que calculamos anteriormente. Elas são iguais a:\n",
    "$$ \\text{Média(A)} = \\frac{A_1 + A_2 + A_3 + \\ldots}{\\text{número total de elementos em } A} $$\n",
    "$$ \\text{Média(B)} = \\frac{B_1 + B_2 + B_3 + \\ldots}{\\text{número total de elementos em } B} $$\n",
    "\n",
    "Portanto, podemos substituir essas médias:\n",
    "\n",
    "$$ \\text{Média(S)} = \\text{Média(A)} + \\text{Média(B)} $$\n",
    "\n",
    "O que isso nos diz é que a média da array de soma $S$ é a mesma coisa que somar as médias das arrays $A$ e $B$.\n",
    "\n",
    "Além disso, poderíamos formalizar essa expressão utilizando a notação de esperança matemática, em que $E[A]$ representa (nesse caso) a média aritimética da variável $A$, $E[B]$ para a média da variável $B$ e $E[S]$ para a soma das médias. Assim, obtendo:\n",
    "$$E[S] = E[A] + E[B] $$"
   ]
  },
  {
   "cell_type": "markdown",
   "metadata": {},
   "source": [
    "### Variância: soma das variâncias é _quase_ igual à variância das soma"
   ]
  },
  {
   "cell_type": "markdown",
   "metadata": {},
   "source": [
    "<p style='text-align:justify'> Para a análise da variância, fizemos um código muito similar ao da seção acima, que calculasse as variâncias das variáveis e a soma das variâncias usando as funções que definimos no começo."
   ]
  },
  {
   "cell_type": "code",
   "execution_count": 10,
   "metadata": {},
   "outputs": [
    {
     "name": "stdout",
     "output_type": "stream",
     "text": [
      "\n",
      "Para a array de 10 itens:\n",
      "Soma das variâncias das arrays: 2.1438728438079684\n",
      "Variância da soma das arrays: 3.867085944730534\n",
      "\n",
      "Para a array de 50 itens:\n",
      "Soma das variâncias das arrays: 1.7101158734572812\n",
      "Variância da soma das arrays: 1.5365063092950675\n",
      "\n",
      "Para a array de 100 itens:\n",
      "Soma das variâncias das arrays: 2.1564151157140614\n",
      "Variância da soma das arrays: 1.8159421645616676\n",
      "\n",
      "Para a array de 1000 itens:\n",
      "Soma das variâncias das arrays: 2.02621387540095\n",
      "Variância da soma das arrays: 2.0850675663756206\n",
      "\n",
      "Para a array de 10000 itens:\n",
      "Soma das variâncias das arrays: 1.9970990460224523\n",
      "Variância da soma das arrays: 2.0265933472663606\n"
     ]
    }
   ],
   "source": [
    "for tamanho in tamanho_das_arrays:\n",
    "    array1 = np.random.normal(size=tamanho)\n",
    "    array2 = np.random.normal(size=tamanho)\n",
    "    variancia_array1 = variancia(array1)\n",
    "    variancia_array2 = variancia(array2)\n",
    "    variancia_soma_esperada = variancia_array1 + variancia_array2\n",
    "    variancia_soma_das_arrays = variancia(array1 + array2)\n",
    "    \n",
    "    print(f\"\\nPara a array de {tamanho} itens:\")\n",
    "    print(f\"Soma das variâncias das arrays: {variancia_soma_esperada}\")\n",
    "    print(f\"Variância da soma das arrays: {variancia_soma_das_arrays}\")"
   ]
  },
  {
   "cell_type": "markdown",
   "metadata": {},
   "source": [
    "<p style='text-align:justify'>Foi possível observar que, à medida que o tamanho das arrays aumenta, há uma tendência para que os valores da soma das variâncias das arrays e da variância da soma das arrays se aproximem, embora a presença de flutuações inerentes às amostras possa resultar em algumas diferenças.\n",
    "\n",
    "Esta igualdade pode ser explicada considerando a propriedade da adição de variâncias para variáveis aleatórias independentes. A fórmula para a variância da soma de duas variáveis aleatórias $A$ e $B$ é:\n",
    "\n",
    "$$\\text{Var}(𝐴 + 𝐵) = \\text{Var}(𝐴) + \\text{Var}(𝐵) + 2\\text{Cov}(𝐴, 𝐵)$$\n",
    "\n",
    "Reformulando o código acima para introduzir a covariância, temos que:"
   ]
  },
  {
   "cell_type": "code",
   "execution_count": 11,
   "metadata": {},
   "outputs": [
    {
     "name": "stdout",
     "output_type": "stream",
     "text": [
      "\n",
      "Para a array de 10 itens:\n",
      "Soma das variâncias das arrays: 3.2053305291268597\n",
      "Variância da soma das arrays: 3.1311813961081203\n",
      "\n",
      "Para a array de 50 itens:\n",
      "Soma das variâncias das arrays: 2.673882778902856\n",
      "Variância da soma das arrays: 2.672575886343955\n",
      "\n",
      "Para a array de 100 itens:\n",
      "Soma das variâncias das arrays: 2.1069994948760784\n",
      "Variância da soma das arrays: 2.1076357439441686\n",
      "\n",
      "Para a array de 1000 itens:\n",
      "Soma das variâncias das arrays: 2.084040649256645\n",
      "Variância da soma das arrays: 2.0841335081443577\n",
      "\n",
      "Para a array de 10000 itens:\n",
      "Soma das variâncias das arrays: 2.0222103658761554\n",
      "Variância da soma das arrays: 2.0222082165747706\n"
     ]
    }
   ],
   "source": [
    "for tamanho in tamanho_das_arrays:\n",
    "    array1 = np.random.normal(size=tamanho)\n",
    "    array2 = np.random.normal(size=tamanho)\n",
    "    variancia_array1 = np.var(array1)\n",
    "    variancia_array2 = np.var(array2)\n",
    "    covariancia_ab = np.cov(array1, array2)[0, 1] \n",
    "    variancia_soma_esperada = variancia_array1 + variancia_array2 + 2 * covariancia_ab\n",
    "    variancia_soma_das_arrays = np.var(array1 + array2)\n",
    "    \n",
    "    print(f\"\\nPara a array de {tamanho} itens:\")\n",
    "    print(f\"Soma das variâncias das arrays: {variancia_soma_esperada}\")\n",
    "    print(f\"Variância da soma das arrays: {variancia_soma_das_arrays}\")"
   ]
  },
  {
   "cell_type": "markdown",
   "metadata": {},
   "source": [
    "<p style='text-align:justify'> No caso em que $A$ e $B$ são independentes, a covariância entre eles ($Cov(A,B)$) é nula. Isso simplifica a fórmula para:\n",
    "\n",
    "$$\\text{Var}(𝐴 + 𝐵) = \\text{Var}(𝐴) + \\text{Var}(𝐵)$$\n",
    "\n",
    "Além disso, conclui-se que com o aumento do tamanho das arrays, a variância da soma das variáveis aleatórias se aproxima mais da soma das variâncias individuais (elas vão se tornando <b>mais independentes</b>). Além disso, refletimos sobre o porquê as variâncias não conseguirem atingir valores iguais, sendo nossa hipótese direcionada para o Python e como as funções do módulo `statistics` foram desenhadas. Porém, não procuramos isso em profundidade, mas levantamos essa suspeita pois, na literatura, essas fórmulas são usadas."
   ]
  },
  {
   "cell_type": "markdown",
   "metadata": {},
   "source": [
    "## Referências\n",
    "\n"
   ]
  },
  {
   "cell_type": "markdown",
   "metadata": {},
   "source": [
    "Escreva nesta seção as referências consultadas.\n",
    "\n"
   ]
  },
  {
   "cell_type": "markdown",
   "metadata": {},
   "source": [
    "## Playground\n",
    "\n"
   ]
  },
  {
   "cell_type": "code",
   "execution_count": null,
   "metadata": {},
   "outputs": [],
   "source": []
  }
 ],
 "metadata": {
  "kernelspec": {
   "display_name": "ilumpy",
   "language": "python",
   "name": "ilumpy"
  },
  "language_info": {
   "codemirror_mode": {
    "name": "ipython",
    "version": 3
   },
   "file_extension": ".py",
   "mimetype": "text/x-python",
   "name": "python",
   "nbconvert_exporter": "python",
   "pygments_lexer": "ipython3",
   "version": "3.10.8"
  },
  "org": null
 },
 "nbformat": 4,
 "nbformat_minor": 4
}
