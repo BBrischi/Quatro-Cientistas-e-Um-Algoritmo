{
 "cells": [
  {
   "cell_type": "markdown",
   "metadata": {
    "id": "klOxJi7-RPRk"
   },
   "source": [
    "Estatística descritiva - Exercício\n",
    "==================================\n",
    "\n"
   ]
  },
  {
   "cell_type": "markdown",
   "metadata": {
    "id": "jEZ-U92QRPRn"
   },
   "source": [
    "## Objetivo\n",
    "\n"
   ]
  },
  {
   "cell_type": "markdown",
   "metadata": {
    "id": "RL7eu5LVRPRn"
   },
   "source": [
    "Faça uma análise exploratória do conjunto de dados que você recebeu. Para isso, compute estatísticas descritivas dos dados e escolha algumas variáveis para representar graficamente. Com as informações obtidas, escreva um texto sobre o que observou.\n",
    "\n"
   ]
  },
  {
   "cell_type": "markdown",
   "metadata": {
    "id": "Q7NKmUSvfYF4"
   },
   "source": [
    "## Imports e definindo variáveis e funções\n",
    "\n"
   ]
  },
  {
   "cell_type": "markdown",
   "metadata": {
    "id": "FFAAgMARffUd"
   },
   "source": [
    "<p style=\"text-align: justify\">Antes de começar a computar as estatísticas, é necessário realizar o import das bibliotecas que foram usadas, no caso, <code>pandas</code>,<code>numpy</code>,<code>statistics</code> e <code>matplotlib</code>.A primeira biblioteca tem como função possibilitar a manipulação de dataframes, já a terceira permite que dados estatísticos sejam computados, como média, desvio padrão, moda, entre outros. Além disso, a terceira e quarta biblioteca estão direcionadas para o <i>plot</i> dos gráficos, quando necessários. Por fim, variáveis foram criadas para as strings que correspondem às coluns do dataframe que será analisado, além da criação de funções para calcular estatísticas, como média e desvio padrão de maneira mais fácil.\n",
    "\n"
   ]
  },
  {
   "cell_type": "code",
   "execution_count": null,
   "metadata": {
    "id": "QUIn-Wq0x-lf"
   },
   "outputs": [],
   "source": [
    "import pandas as pd\n",
    "import numpy as np\n",
    "import statistics as st\n",
    "from matplotlib import pyplot as plt\n",
    "\n",
    "quest = \"questionario.xlsx\"\n",
    "df_quest = pd.read_excel(quest)\n",
    "quest_copia = df_quest.copy()\n",
    "altura = \"Qual é a sua altura em centímetros?\\n\"\n",
    "n_sapato = \"Qual é o número de sapato que você calça?\\n\"\n",
    "mes_niver = \"Qual o mês do seu aniversário?\\n\"\n",
    "irmãos = \"Quantos irmãos você tem?\\n\"\n",
    "livros = \"Quantos livros você leu ano passado?\\n\"\n",
    "cor_fav = \"Das cores abaixo, qual é a sua favorita (ou a cor que mais gosta se sua cor favorita mesmo não estiver na lista)?\\n\"\n",
    "azeitona = \"Qual a sua opinião sobre azeitona?\\n\"\n",
    "mais_afim = \"Qual destas linhas de estudo é a que você tem mais afinidade?\\n\"\n",
    "menos_afim = \"Qual destas linhas de estudo é a que você tem menos afinidade?\\n\"\n",
    "ket_dogi = \"Cachorros ou gatos?\\n\" #em homenagem ao bra-ket e ao dogi :)\n",
    "\n",
    "\n",
    "def media(array):\n",
    "    \"\"\"Calcula a média a partir de um array.\n",
    "\n",
    "    A função recebe um array e calcula a média usando a função \"mean\",\n",
    "    transforma esse valor (float ou inteiro) em string e retorna ele.\n",
    "\n",
    "    Args:\n",
    "      array: Recebe um array com os valores que serão calculados.\n",
    "\n",
    "    Returns:\n",
    "      Retorna uma string que contém o valor da média.\n",
    "    \"\"\"\n",
    "\n",
    "    media = st.mean(array)\n",
    "    media_string = str(media)\n",
    "    resultado = \"O valor da média é \" + media_string\n",
    "    return resultado\n",
    "\n",
    "\n",
    "def desvio_pd(array):\n",
    "    \"\"\"Calcula o desvio padrão a partir de um array.\n",
    "\n",
    "    A função recebe um array e calcula o desvio padrão usando a função \"pstdev\",\n",
    "    transforma esse valor (float ou inteiro) em string e retorna ele.\n",
    "\n",
    "    Args:\n",
    "      array: Recebe um array com os valores que serão calculados.\n",
    "\n",
    "    Returns:\n",
    "      Retorna uma string que contém o valor do desvio padrão.\n",
    "    \"\"\"\n",
    "\n",
    "    desvio = st.pstdev(array)\n",
    "    desvio_string = str(desvio)\n",
    "    resultado = \"O valor do desvio padrão é \" + desvio_string\n",
    "    return resultado\n",
    "\n",
    "\n",
    "def moda(array):\n",
    "    \"\"\"Calcula a moda a partir de um array.\n",
    "\n",
    "    A função recebe um array e calcula a moda usando a função \"mode\",\n",
    "    transforma, se necessário, esse valor (float ou inteiro) em string, e\n",
    "    retorna ele. Caso o array já contenha strings, ele apenas retorna a moda.\n",
    "\n",
    "    Args:\n",
    "      array: Recebe um array com os valores que serão calculados.\n",
    "\n",
    "    Returns:\n",
    "      Retorna uma string que contém o valor da moda.\n",
    "    \"\"\"\n",
    "    moda = st.mode(array)\n",
    "\n",
    "    if type(moda) != str:\n",
    "        moda_string = str(moda)\n",
    "        resultado = \"O valor da moda é \" + moda_string\n",
    "\n",
    "    else:\n",
    "        resultado = \"O valor da moda é \" + moda\n",
    "    return resultado\n",
    "\n",
    "\n",
    "def mediana(array):\n",
    "    \"\"\"Calcula a mediana a partir de um array.\n",
    "\n",
    "    A função recebe um array e calcula a moda usando a função \"median\",\n",
    "    transforma esse valor (float ou inteiro) em string e retorna ele.\n",
    "\n",
    "    Args:\n",
    "      array: Recebe um array com os valores que serão calculados.\n",
    "\n",
    "    Returns:\n",
    "      Retorna uma string que contém o valor da mediana.\n",
    "    \"\"\"\n",
    "\n",
    "    mediana = st.median(array)\n",
    "    mediana_string = str(mediana)\n",
    "    resultado = \"O valor da mediana é \" + mediana_string\n",
    "    return resultado"
   ]
  },
  {
   "cell_type": "markdown",
   "metadata": {
    "id": "D_v2Xhhb1Dd7"
   },
   "source": [
    "## Dados quantitativos"
   ]
  },
  {
   "cell_type": "markdown",
   "metadata": {
    "id": "ZQRd8MeK1PHQ"
   },
   "source": [
    "### Calculando a média da altura (com e sem anomalias) da amostra da turma e o respectivo desvio padrão\n",
    "\n",
    "\n",
    "\n"
   ]
  },
  {
   "cell_type": "markdown",
   "metadata": {
    "id": "beQK_7lP776I"
   },
   "source": [
    "#### Calculando com todos os dados"
   ]
  },
  {
   "cell_type": "code",
   "execution_count": 2,
   "metadata": {
    "colab": {
     "base_uri": "https://localhost:8080/"
    },
    "id": "QoIlHGmA1UF8",
    "outputId": "609b0ddc-58d0-4b6f-b5ca-da4cc63f33ae"
   },
   "outputs": [
    {
     "name": "stdout",
     "output_type": "stream",
     "text": [
      "As alturas da turma são: [ 174.     17.    173.    182.   1545.    169.    162.    161.    188.\n",
      "  152.    160.    180.    153.    155.    170.      1.71  170.    191.\n",
      "  169.    176.    175.    170.    161.    184.    175.    176.    169.\n",
      "  170.    170.    171.    175.  ]\n",
      "O valor da média é 204.66806451612902\n",
      "O valor do desvio padrão é 248.06622480010552\n",
      "O valor da moda é 170.0\n",
      "O valor da mediana é 170.0\n"
     ]
    }
   ],
   "source": [
    "altura_array = df_quest[altura].values\n",
    "print(f\"As alturas da turma são: {altura_array}\")\n",
    "\n",
    "print(media(altura_array))\n",
    "print(desvio_pd(altura_array))\n",
    "print(moda(altura_array))\n",
    "print(mediana(altura_array))"
   ]
  },
  {
   "cell_type": "markdown",
   "metadata": {
    "id": "-RqZ36Z--X6x"
   },
   "source": [
    "#### Calculando sem as anomalias"
   ]
  },
  {
   "cell_type": "markdown",
   "metadata": {
    "id": "TF0DyFbL3DU5"
   },
   "source": [
    "A média calculada respeita todos os valores de input da tabela. Porém, como podemos observar, muitas vezes, ao trabalhar com dados, existem anomalias - valores muitos distantes dos outros valores. Essas anomalias (ou _outliers_) podem causar mudanças inesperadas nas medidas que estamos tentando fazer. Para corrigir isso, identificaremos as possíveis anomalias. Isso será feito filtrando os dados com certos parâmetros* e recalculando a média.\n",
    "\n",
    "(*): Os parâmetros foram selecionados a partir da altura do ser humano mais baixo ([54](https://https://pt.wikipedia.org/wiki/Chandra_Bahadur_Dangi?oldformat=true) cm) e do ser humano mais alto ([250](https://www.bbc.com/portuguese/geral-64144725#:~:text=%22Bem%2C%20o%20homem%20mais%20alto,mundial%20do%20Guinness%20World%20Records.) cm). Assim, determinando as alturas \"humanamente possíveis\""
   ]
  },
  {
   "cell_type": "code",
   "execution_count": 3,
   "metadata": {
    "colab": {
     "base_uri": "https://localhost:8080/"
    },
    "id": "dayVJ9q_4BVS",
    "outputId": "d16b7cce-d75f-40ad-bce3-80afeb76c7bf"
   },
   "outputs": [
    {
     "name": "stdout",
     "output_type": "stream",
     "text": [
      "As alturas removendo os outliers são: [174. 173. 182. 169. 162. 161. 188. 152. 160. 180. 153. 155. 170. 170.\n",
      " 191. 169. 176. 175. 170. 161. 184. 175. 176. 169. 170. 170. 171. 175.]\n",
      "O valor da média é 170.75\n",
      "O valor do desvio padrão é 9.504228382296857\n",
      "O valor da moda é 170.0\n",
      "O valor da mediana é 170.0\n"
     ]
    }
   ],
   "source": [
    "altura_min = 54\n",
    "altura_max = 250\n",
    "\n",
    "altura_filtrada = altura_array[(altura_array >= altura_min) & (altura_array <= altura_max)]\n",
    "print(f\"As alturas removendo os outliers são: {altura_filtrada}\")\n",
    "\n",
    "print(media(altura_filtrada))\n",
    "print(desvio_pd(altura_filtrada))\n",
    "print(moda(altura_filtrada))\n",
    "print(mediana(altura_filtrada))"
   ]
  },
  {
   "cell_type": "markdown",
   "metadata": {
    "id": "DkkFV9_S4dAh"
   },
   "source": [
    "Uma vez que eliminamos os outliers, observamos uma diminuição drástica do desvio padrão. Outra observação importante é a diferença no efeito de anomalias sobre as medidas de tendência central: podemos verificar a robustez da mediana que, (nesse caso) não muda com ou sem os outliers. Diferente da média, que é muito sensível a tais anomalias."
   ]
  },
  {
   "cell_type": "markdown",
   "metadata": {
    "id": "00vVsuksKC2g"
   },
   "source": [
    "### Computando estatísticas dos números de sapatos"
   ]
  },
  {
   "cell_type": "markdown",
   "metadata": {
    "id": "9fNl6TB4U060"
   },
   "source": [
    "<p style='text-align:justify'> Para os números de sapatos da amostra, computamos a média, mediana moda, mínimo, máximo e o seu desvio padrão."
   ]
  },
  {
   "cell_type": "code",
   "execution_count": 4,
   "metadata": {
    "colab": {
     "base_uri": "https://localhost:8080/"
    },
    "id": "ZukXX9RGKERm",
    "outputId": "742d3809-efe2-45ec-e8f5-59afda539a50"
   },
   "outputs": [
    {
     "name": "stdout",
     "output_type": "stream",
     "text": [
      "Os números de sapato são: [42 41 39 40 34 37 39 36 44 32 35 40 35 35 42 41 40 47 39 40 40 40 39 44\n",
      " 42 41 42 40 38 42 41]\n",
      "\n",
      "O valor da média é 39\n",
      "O valor da mediana é 40\n",
      "O valor da moda é 40\n",
      "O mínimo dos números de sapatos é 32\n",
      "O máximo dos números de sapatos é 47\n",
      "O valor do desvio padrão é 3.0\n"
     ]
    }
   ],
   "source": [
    "sapato_array = df_quest[n_sapato].values\n",
    "print(f\"Os números de sapato são: {sapato_array}\")\n",
    "\n",
    "print()\n",
    "\n",
    "print(media(sapato_array))\n",
    "print(mediana(sapato_array))\n",
    "print(moda(sapato_array))\n",
    "print(f\"O mínimo dos números de sapatos é {min(sapato_array)}\")\n",
    "print(f\"O máximo dos números de sapatos é {max(sapato_array)}\")\n",
    "print(desvio_pd(sapato_array))"
   ]
  },
  {
   "cell_type": "markdown",
   "metadata": {
    "id": "ZQnZtUxjUjln"
   },
   "source": [
    "<p style = 'text-align: justify'> Pode-se observar pelas estatísticas que a mediana e moda possuem valores iguais, além de que a média varia desses dois valores por apenas uma unidade. Assim, é possível ver que existe algum padrão na distribuição dos números de sapatos em torno desses valores. Além disso, o desvio padrão foi de 3 unidades, evidenciando que houve uma dispersão dos dados relativamente pequena, já que temos 12 diferentes números de sapatos na amostra, mas o desvio padrão é um quarto desse valor.\n",
    "    \n",
    "<p style = 'text-align: justify'> Ademais, pesquisando um pouco, descobrimos que a média de número de sapatos é um valor entre 40 e 44 para homens e 36 e 37 para mulheres. Assim, é visto que a média da amostra se encontra entre as médias para mulheres e homens. Entretanto, a mediana e a moda se encontram dentro do intervalo definido para a média de homens, o que pode mostrar um perfil da amostra de ser composta principalmente por homens."
   ]
  },
  {
   "cell_type": "markdown",
   "metadata": {
    "id": "2Y4SGAYuPMw8"
   },
   "source": [
    "### Relação entre altura e números de sapato"
   ]
  },
  {
   "cell_type": "code",
   "execution_count": 5,
   "metadata": {
    "colab": {
     "base_uri": "https://localhost:8080/",
     "height": 1000
    },
    "id": "whKj_xVyPREd",
    "outputId": "936a5082-48ff-4b42-ac87-751cd3f262f0"
   },
   "outputs": [
    {
     "name": "stdout",
     "output_type": "stream",
     "text": [
      "    Qual é a sua altura em centímetros?\\n  \\\n",
      "0                                   174.0   \n",
      "1                                   170.0   \n",
      "2                                   173.0   \n",
      "3                                   182.0   \n",
      "4                                   154.0   \n",
      "5                                   169.0   \n",
      "6                                   162.0   \n",
      "7                                   161.0   \n",
      "8                                   188.0   \n",
      "9                                   152.0   \n",
      "10                                  160.0   \n",
      "11                                  180.0   \n",
      "12                                  153.0   \n",
      "13                                  155.0   \n",
      "14                                  170.0   \n",
      "15                                  171.0   \n",
      "16                                  170.0   \n",
      "17                                  191.0   \n",
      "18                                  169.0   \n",
      "19                                  176.0   \n",
      "20                                  175.0   \n",
      "21                                  170.0   \n",
      "22                                  161.0   \n",
      "23                                  184.0   \n",
      "24                                  175.0   \n",
      "25                                  176.0   \n",
      "26                                  169.0   \n",
      "27                                  170.0   \n",
      "28                                  170.0   \n",
      "29                                  171.0   \n",
      "30                                  175.0   \n",
      "\n",
      "    Qual é o número de sapato que você calça?\\n  \n",
      "0                                            42  \n",
      "1                                            41  \n",
      "2                                            39  \n",
      "3                                            40  \n",
      "4                                            34  \n",
      "5                                            37  \n",
      "6                                            39  \n",
      "7                                            36  \n",
      "8                                            44  \n",
      "9                                            32  \n",
      "10                                           35  \n",
      "11                                           40  \n",
      "12                                           35  \n",
      "13                                           35  \n",
      "14                                           42  \n",
      "15                                           41  \n",
      "16                                           40  \n",
      "17                                           47  \n",
      "18                                           39  \n",
      "19                                           40  \n",
      "20                                           40  \n",
      "21                                           40  \n",
      "22                                           39  \n",
      "23                                           44  \n",
      "24                                           42  \n",
      "25                                           41  \n",
      "26                                           42  \n",
      "27                                           40  \n",
      "28                                           38  \n",
      "29                                           42  \n",
      "30                                           41  \n",
      "\n",
      "Os valores de mínimo do número de sapato e altura são 32 e 152.0, respectivamente\n",
      "Os valores de máximo do número de sapato e altura são 47 e 191.0, respectivamente\n"
     ]
    },
    {
     "data": {
      "image/png": "[encoded data removed]",
      "text/plain": [
       "<Figure size 640x480 with 1 Axes>"
      ]
     },
     "metadata": {},
     "output_type": "display_data"
    }
   ],
   "source": [
    "quest_copia[altura] = quest_copia[altura].replace([1545, 17, 1.71], [154, 170, 171])\n",
    "df_alt_sapato = quest_copia.reindex([altura, n_sapato], axis=1)\n",
    "\n",
    "print(df_alt_sapato)\n",
    "print()\n",
    "print(f\"Os valores de mínimo do número de sapato e altura são {min(sapato_array)} e {min(df_alt_sapato[altura])}, respectivamente\")\n",
    "print(f\"Os valores de máximo do número de sapato e altura são {max(sapato_array)} e {max(df_alt_sapato[altura])}, respectivamente\")\n",
    "altura_sapato = df_alt_sapato.plot.scatter(x=n_sapato,\n",
    "                                           y=altura,\n",
    "                                           c='#f719d2',\n",
    "                                          title = 'Relação entre altura e números de sapato')"
   ]
  },
  {
   "cell_type": "markdown",
   "metadata": {
    "id": "tep98n1gvpZx"
   },
   "source": [
    "<p style='text-align: justify'> Com o gráfico de espalhamento acima é possível ver que há uma clara correlação entre as grandezas ed altura e número de sapato, já que o menor número de sapato também pertence ao índividuo de menor altura. Da mesma forma, o índividuo mais alto detém o maior número de sapato. Não só isso, mas também é possível analisar pelos outros pontos que o número de sapato tende a crescer conforme a altura também cresce."
   ]
  },
  {
   "cell_type": "markdown",
   "metadata": {
    "id": "ipK7IZJgvaml"
   },
   "source": []
  },
  {
   "cell_type": "markdown",
   "metadata": {
    "id": "_243Ey0Zvmyu"
   },
   "source": [
    "## Dados qualitativos"
   ]
  },
  {
   "cell_type": "markdown",
   "metadata": {
    "id": "A1MBWZW1ZDCd"
   },
   "source": [
    "### Histograma de gatos e cachorros"
   ]
  },
  {
   "cell_type": "code",
   "execution_count": 6,
   "metadata": {
    "colab": {
     "base_uri": "https://localhost:8080/",
     "height": 472
    },
    "id": "URKA0mHgZNXl",
    "outputId": "4b57ac9b-f314-4162-e97a-9baef78c0659"
   },
   "outputs": [
    {
     "data": {
      "image/png": "[encoded data removed]",
      "text/plain": [
       "<Figure size 640x480 with 1 Axes>"
      ]
     },
     "metadata": {},
     "output_type": "display_data"
    }
   ],
   "source": [
    "#uma gambiarra pra contar o numero de resposta :)\n",
    "contador_cachorro = 0\n",
    "contador_gato = 0\n",
    "ket_ou_dogi_array = df_quest[ket_dogi].values\n",
    "\n",
    "for i in ket_ou_dogi_array:\n",
    "    if i == \"Cachorros!\":\n",
    "        contador_cachorro += 1\n",
    "    else:\n",
    "        contador_gato += 1\n",
    "\n",
    "categorias = ['Cachorro', 'Gato']\n",
    "contagens = [contador_cachorro, contador_gato]\n",
    "\n",
    "plt.bar(categorias, contagens)\n",
    "plt.xlabel('Preferência')\n",
    "plt.ylabel('Contagem')\n",
    "plt.title('Preferência entre Cachorros e Gatos')\n",
    "\n",
    "plt.show()\n"
   ]
  },
  {
   "cell_type": "markdown",
   "metadata": {
    "id": "Fph4GGtZugnG"
   },
   "source": [
    "Vemos uma disputa acirrada, em que cachorros levam uma pequena vantagem. Não vou me alongar muito nesse histograma por um motivo ideológico. Afinal, tenho fortes convicções e, nesse grande embate, assuma a posição neutra: cachorros e gatos são igualmente incríveis e essa competição não leva a nada."
   ]
  },
  {
   "cell_type": "markdown",
   "metadata": {
    "id": "wNG6LunCDSvg"
   },
   "source": [
    "### Moda e gráfico de pizza das cores favoritas\n"
   ]
  },
  {
   "cell_type": "code",
   "execution_count": 7,
   "metadata": {
    "colab": {
     "base_uri": "https://localhost:8080/",
     "height": 446
    },
    "id": "VGCbHY66DUac",
    "outputId": "1a550dd6-28d4-45e7-9666-b16699df6972"
   },
   "outputs": [
    {
     "name": "stdout",
     "output_type": "stream",
     "text": [
      " o valor da moda é Preto\n"
     ]
    },
    {
     "data": {
      "image/png": "[encoded data removed]",
      "text/plain": [
       "<Figure size 640x480 with 1 Axes>"
      ]
     },
     "metadata": {},
     "output_type": "display_data"
    }
   ],
   "source": [
    "moda_colorida = st.mode(df_quest[cor_fav])\n",
    "array_colorido = df_quest[cor_fav].values\n",
    "df_colorido = pd.DataFrame({'Alunos': [*range(1,32)],\n",
    "                            'cores': array_colorido})\n",
    "\n",
    "print(f\" o valor da moda é {moda_colorida}\")\n",
    "pizza_colorida = df_colorido.groupby(['cores']).sum().plot(kind='pie', y='Alunos', autopct='%1.0f%%',\n",
    "                                                           colors = ['#bdbd28','#2848bd','#4f4d4d',\n",
    "                                                                     '#201f21','#e317cb','#370970',\n",
    "                                                                     '#28bd34','#ba2d2d'],\n",
    "                                                          title = 'Distribuição de cores entre alunos')\n",
    "pizza_colorida.legend(fontsize=6)\n",
    "plt.gca().set_xlabel('')\n",
    "plt.gca().set_ylabel('');"
   ]
  },
  {
   "cell_type": "markdown",
   "metadata": {
    "id": "FhVQf-hzDcH0"
   },
   "source": [
    "<p style='text-align:justify'> A respeito da análise das cores, uma das estatísticas mais importantes a ser estudada é a moda, porque ela irá mostrar qual a cor mais escolhida dentre as opções, nos dando uma noção sobre qual predileção por cores da amostra. Assim, a moda, quando rodada pelo código, foi a cor preta. Entretanto, quando se analisa o gráfico de cores, é visto que o preto e o azul possuem porcentagens iguais. Ou seja, nessa amostra, não temos apenas uma, mas sim duas modas, mostrando que a resposta dada pelo método do <code>pandas</code> foi parcial. Ademais, outra análise curiosa é que três cores (verde, preto e azul) representam 75% das cores escolhidas pelos indíviduos da amostra, enquanto as outras cinco cores se distribuem no outro um quarto de cores favoritas."
   ]
  },
  {
   "cell_type": "markdown",
   "metadata": {
    "id": "RxY77QsteA0m"
   },
   "source": [
    "### Relacionando números de livros lidos e número de irmãos\n"
   ]
  },
  {
   "cell_type": "code",
   "execution_count": 8,
   "metadata": {
    "colab": {
     "base_uri": "https://localhost:8080/",
     "height": 1000
    },
    "id": "kb0fm6sQeCam",
    "outputId": "d575b8d2-16d0-427e-9068-1893e7a90e44"
   },
   "outputs": [
    {
     "name": "stdout",
     "output_type": "stream",
     "text": [
      "    Número de Irmãos  Livros lidos\n",
      "0                 18           3.0\n",
      "1                  0          14.0\n",
      "2                  2           NaN\n",
      "3                  3           5.0\n",
      "4                  0           4.0\n",
      "5                  1          10.0\n",
      "6                  0          20.0\n",
      "7                  0           7.0\n",
      "8                  6           7.0\n",
      "9                  1           3.0\n",
      "10                 1          34.0\n",
      "11                 1           5.0\n",
      "12                 2           7.0\n",
      "13                 0           8.0\n",
      "14                 0           7.0\n",
      "15                 2           5.0\n",
      "16                 1           0.0\n",
      "17                 1          15.0\n",
      "18                 2           8.0\n",
      "19                 0           5.0\n",
      "20                 1          10.0\n",
      "21                 3           2.0\n",
      "22                 1           2.0\n",
      "23                 1          13.0\n",
      "24                 4           5.0\n",
      "25                 1          32.0\n",
      "26                 0           0.0\n",
      "27                 3           4.0\n",
      "28                 4           1.0\n",
      "29                 3           2.0\n",
      "30                 1          30.0\n"
     ]
    },
    {
     "name": "stderr",
     "output_type": "stream",
     "text": [
      "c:\\venv\\ilumpy\\lib\\site-packages\\pandas\\plotting\\_matplotlib\\core.py:1259: UserWarning: No data for colormapping provided via 'c'. Parameters 'cmap' will be ignored\n",
      "  scatter = ax.scatter(\n"
     ]
    },
    {
     "data": {
      "image/png": "[encoded data removed]",
      "text/plain": [
       "<Figure size 640x480 with 1 Axes>"
      ]
     },
     "metadata": {},
     "output_type": "display_data"
    }
   ],
   "source": [
    "array_irmaos = df_quest[irmãos].values\n",
    "array_livros = df_quest[livros].values\n",
    "df_irmaos_livros = pd.DataFrame({'Número de Irmãos': array_irmaos, 'Livros lidos': array_livros})\n",
    "print(df_irmaos_livros)\n",
    "plotando_dataframe = df_irmaos_livros.plot.scatter(x='Número de Irmãos', y='Livros lidos', colormap='viridis')\n",
    "\n",
    "plt.title('Relação entre Número de Irmãos e Livros Lidos')\n",
    "plt.xlabel('Número de Irmãos')\n",
    "plt.ylabel('Livros Lidos')\n",
    "plt.show()\n"
   ]
  },
  {
   "cell_type": "code",
   "execution_count": 9,
   "metadata": {
    "colab": {
     "base_uri": "https://localhost:8080/"
    },
    "id": "R6D_tCl9eEX4",
    "outputId": "28614c30-34bb-47b0-c2a7-68e0c6408d59"
   },
   "outputs": [
    {
     "name": "stdout",
     "output_type": "stream",
     "text": [
      "A lista de número de livros lida é: [3.0, 14.0, 5.0, 4.0, 10.0, 20.0, 7.0, 7.0, 3.0, 34.0, 5.0, 7.0, 8.0, 7.0, 5.0, 0.0, 15.0, 8.0, 5.0, 10.0, 2.0, 2.0, 13.0, 5.0, 32.0, 0.0, 4.0, 1.0, 2.0, 30.0]\n",
      "O valor da média é 8.933333333333334\n",
      "O valor do desvio padrão é 8.921634130334843\n",
      "O valor da moda é 5.0\n"
     ]
    }
   ],
   "source": [
    "# calcular essas medidas de tendência central estava dando erro por causa de um valor que estava NaN\n",
    "# vamos resolver isso usando o método pd.isnull (fonte: https://www.pythonpool.com/python-remove-nan-from-list/)\n",
    "\n",
    "nova_array_livros = [item for item in array_livros if not(pd.isnull(item)) == True]\n",
    "print(f\"A lista de número de livros lida é: {nova_array_livros}\")\n",
    "\n",
    "print(media(nova_array_livros))\n",
    "print(desvio_pd(nova_array_livros))\n",
    "print(moda(nova_array_livros))"
   ]
  },
  {
   "cell_type": "markdown",
   "metadata": {
    "id": "Bbab6pZBw_ds"
   },
   "source": [
    "Ao  pensar em fazer um gráfico de dispersão com os valores de quantidade de irmãos e número de livros lidos ano passado, estávamos com a seguinte hipótese em mente: **pessoas que tem mais irmãos vivem em casas mais barulhentas e, portanto, leem menos livros** (ler com barulho pode ser desafiador!). Vemos que o desvio padrão foi razoavelmente grande, o que pode significar uma amostra pouco homogênea, ou ainda a presença de anomalias (podemos ver que a média - medida muito afetada por anomalias - é quase o dobro da moda!). Ainda que podemos sim observar uma relação inversa (decrescente) entre as duas variáveis (principalmente quando ignoramos três possíveis outliers, indivíduos com 1 irmão que leram 30-35 livros), é necessário de mais dados para testar de maneira mais confiante a nossa hipótese e estabelecer uma correlação (demonstrar causalidade é ainda mais complexo)"
   ]
  },
  {
   "cell_type": "markdown",
   "metadata": {
    "id": "No2ioD7F1alZ"
   },
   "source": [
    "### Comparando altura e linha de estudo preferida\n",
    "\n",
    "\n"
   ]
  },
  {
   "cell_type": "code",
   "execution_count": 10,
   "metadata": {
    "colab": {
     "base_uri": "https://localhost:8080/",
     "height": 787
    },
    "id": "H72dcoLo5G4J",
    "outputId": "ffd6f8be-2284-488d-8172-5de7189a8876"
   },
   "outputs": [
    {
     "name": "stdout",
     "output_type": "stream",
     "text": [
      "Para a área de estudo 'Ciências da matéria':\n",
      "O valor da média é 171.76470588235293\n",
      "O valor da mediana é 171.0\n",
      "\n",
      "\n",
      "Para a área de estudo 'Ciências da vida':\n",
      "O valor da média é 167.66666666666666\n",
      "O valor da mediana é 170.0\n",
      "\n",
      "\n",
      "Para a área de estudo 'Ciências humanas':\n",
      "O valor da média é 176.0\n",
      "O valor da mediana é 176.0\n",
      "\n",
      "\n"
     ]
    },
    {
     "name": "stderr",
     "output_type": "stream",
     "text": [
      "c:\\venv\\ilumpy\\lib\\site-packages\\pandas\\plotting\\_matplotlib\\core.py:1259: UserWarning: No data for colormapping provided via 'c'. Parameters 'cmap' will be ignored\n",
      "  scatter = ax.scatter(\n"
     ]
    },
    {
     "data": {
      "image/png": "[encoded data removed]",
      "text/plain": [
       "<Figure size 640x480 with 1 Axes>"
      ]
     },
     "metadata": {},
     "output_type": "display_data"
    }
   ],
   "source": [
    "'''\n",
    "irei filtrar novamente os dados para remover os outliers, com objetivo\n",
    "de que os valores anômolos não distorçam o gráfico;\n",
    "mas, agora, também terei que filtrar a resposta de matéria preferida\n",
    "para aqueles cujas alturas são inválidas, para que tenhamos o mesmo\n",
    "número de valores nas categorias\n",
    "\n",
    "'''\n",
    "altura_min = 54\n",
    "altura_max = 250\n",
    "\n",
    "altura_array = df_quest['Qual é a sua altura em centímetros?\\n'].values\n",
    "estudopreferido_array = df_quest[mais_afim].values\n",
    "\n",
    "# Faremos um filtro que só adicionaremos os valores a nova lista (filtrada) caso as alturas n sejam outliers\n",
    "altura_filtrada = []\n",
    "estudopreferido_filtrado = []\n",
    "\n",
    "for i in range(len(altura_array)):\n",
    "    altura = altura_array[i]\n",
    "    estudopreferido = estudopreferido_array[i]\n",
    "\n",
    "    if altura >= altura_min and altura <= altura_max:\n",
    "        altura_filtrada.append(altura)\n",
    "        estudopreferido_filtrado.append(estudopreferido)\n",
    "\n",
    "# Criando um DataFrame com os dados filtrados\n",
    "df_altura_materia = pd.DataFrame({'Altura': altura_filtrada, 'Linha de estudos preferida': estudopreferido_filtrado})\n",
    "\n",
    "\n",
    "#calculando média e mediana de altura pra cada linha de estudos\n",
    "grupos_estudo = df_altura_materia.groupby('Linha de estudos preferida')\n",
    "\n",
    "resultados = {}\n",
    "for grupo, dados in grupos_estudo:\n",
    "    alturas_grupo = dados['Altura'].values\n",
    "    resultados[grupo] = {'Média': media(alturas_grupo), 'Mediana': mediana(alturas_grupo)}\n",
    "\n",
    "for grupo, valores in resultados.items():\n",
    "    print(f\"Para a área de estudo '{grupo}':\")\n",
    "    print(valores['Média'])\n",
    "    print(valores['Mediana'])\n",
    "    print(\"\\n\")\n",
    "\n",
    "# Plota o gráfico de dispersão\n",
    "plot = df_altura_materia.plot.scatter(x='Altura', y='Linha de estudos preferida', colormap='viridis')\n",
    "\n",
    "# Configurações do gráfico\n",
    "plt.xlabel('Altura')\n",
    "plt.ylabel('Linha de estudos preferida')\n",
    "plt.title('Comparação entre Altura e Linha de Estudo Preferida')\n",
    "\n",
    "# Exibe o gráfico\n",
    "plt.show()\n",
    "\n"
   ]
  },
  {
   "cell_type": "markdown",
   "metadata": {
    "id": "euG4umW76fTt"
   },
   "source": [
    "A minha hipótese inicial é que, devido à desigualdade já bem estabelecida em STEM, as matérias mais relacionadas às exatas (no caso, ciências da matéria) teriam a altura média maior. Isso porque homens, como a literatura mostra, tem altura - em média - maior. O resultado me surpreendeu. Claro que pela amostra ser pequena, não dá pra tirar uma conclusão muito boa dos dados. Mas como pode-se observar, a maior altura média foi de humanas. Ainda assim, a de ciências da matéria ficou em segundo lugar."
   ]
  },
  {
   "cell_type": "markdown",
   "metadata": {
    "id": "HLIDBrs2CfLt"
   },
   "source": [
    "### Moda de afinidade das áreas de estudos e a relação entre elas"
   ]
  },
  {
   "cell_type": "code",
   "execution_count": 11,
   "metadata": {
    "colab": {
     "base_uri": "https://localhost:8080/",
     "height": 1000
    },
    "id": "qJbf3D4oCjd1",
    "outputId": "be39c119-bbf7-4763-af2c-70df96fe4d42"
   },
   "outputs": [
    {
     "name": "stdout",
     "output_type": "stream",
     "text": [
      "0     Ciências da matéria\n",
      "1        Ciências humanas\n",
      "2        Ciências da vida\n",
      "3        Ciências humanas\n",
      "4     Ciências da matéria\n",
      "5     Ciências da matéria\n",
      "6        Ciências da vida\n",
      "7     Ciências da matéria\n",
      "8     Ciências da matéria\n",
      "9        Ciências da vida\n",
      "10    Ciências da matéria\n",
      "11    Ciências da matéria\n",
      "12       Ciências da vida\n",
      "13    Ciências da matéria\n",
      "14       Ciências humanas\n",
      "15       Ciências da vida\n",
      "16    Ciências da matéria\n",
      "17    Ciências da matéria\n",
      "18       Ciências da vida\n",
      "19    Ciências da matéria\n",
      "20    Ciências da matéria\n",
      "21    Ciências da matéria\n",
      "22    Ciências da matéria\n",
      "23       Ciências da vida\n",
      "24    Ciências da matéria\n",
      "25       Ciências da vida\n",
      "26    Ciências da matéria\n",
      "27       Ciências da vida\n",
      "28       Ciências da vida\n",
      "29    Ciências da matéria\n",
      "30    Ciências da matéria\n",
      "Name: Qual destas linhas de estudo é a que você tem mais afinidade?\\n, dtype: object\n",
      "\n",
      "0        Ciências da vida\n",
      "1        Ciências da vida\n",
      "2     Ciências da matéria\n",
      "3        Ciências da vida\n",
      "4        Ciências da vida\n",
      "5        Ciências da vida\n",
      "6     Ciências da matéria\n",
      "7        Ciências da vida\n",
      "8        Ciências humanas\n",
      "9     Ciências da matéria\n",
      "10       Ciências da vida\n",
      "11       Ciências humanas\n",
      "12       Ciências humanas\n",
      "13       Ciências da vida\n",
      "14       Ciências da vida\n",
      "15    Ciências da matéria\n",
      "16       Ciências humanas\n",
      "17       Ciências humanas\n",
      "18       Ciências humanas\n",
      "19       Ciências da vida\n",
      "20       Ciências da vida\n",
      "21       Ciências humanas\n",
      "22       Ciências humanas\n",
      "23       Ciências humanas\n",
      "24       Ciências da vida\n",
      "25       Ciências humanas\n",
      "26       Ciências humanas\n",
      "27       Ciências humanas\n",
      "28    Ciências da matéria\n",
      "29       Ciências da vida\n",
      "30       Ciências da vida\n",
      "Name: Qual destas linhas de estudo é a que você tem menos afinidade?\\n, dtype: object\n",
      "\n",
      " O valor da moda de área com maior afinidade é Ciências da matéria\n",
      " O valor da moda de área com menos afinidade é Ciências da vida\n",
      "\n"
     ]
    },
    {
     "data": {
      "image/png": "[encoded data removed]",
      "text/plain": [
       "<Figure size 640x480 with 1 Axes>"
      ]
     },
     "metadata": {},
     "output_type": "display_data"
    },
    {
     "name": "stdout",
     "output_type": "stream",
     "text": [
      "\n"
     ]
    },
    {
     "data": {
      "image/png": "[encoded data removed]",
      "text/plain": [
       "<Figure size 640x480 with 1 Axes>"
      ]
     },
     "metadata": {},
     "output_type": "display_data"
    }
   ],
   "source": [
    "moda_afim = st.mode(df_quest[mais_afim])\n",
    "moda_n_afim = st.mode(df_quest[menos_afim])\n",
    "\n",
    "\n",
    "print(df_quest[mais_afim])\n",
    "print()\n",
    "print(df_quest[menos_afim])\n",
    "print()\n",
    "print(f\" O valor da moda de área com maior afinidade é {moda_afim}\")\n",
    "print(f\" O valor da moda de área com menos afinidade é {moda_n_afim}\")\n",
    "print()\n",
    "\n",
    "mais_afim_array = df_quest[mais_afim].values\n",
    "menos_afim_array = df_quest[menos_afim].values\n",
    "\n",
    "contador_bio_mais = 0\n",
    "contador_humanas_mais = 0\n",
    "contador_materia_mais = 0\n",
    "contador_bio_menos = 0\n",
    "contador_humanas_menos = 0\n",
    "contador_materia_menos = 0\n",
    "\n",
    "for i in mais_afim_array:\n",
    "    if i == \"Ciências da matéria\":\n",
    "        contador_materia_mais += 1\n",
    "    elif i == \"Ciências humanas\":\n",
    "        contador_humanas_mais += 1\n",
    "    elif i == \"Ciências da vida\":\n",
    "        contador_bio_mais += 1\n",
    "\n",
    "for j in menos_afim_array:\n",
    "    if j == \"Ciências da matéria\":\n",
    "        contador_materia_menos += 1\n",
    "    elif j == \"Ciências humanas\":\n",
    "        contador_humanas_menos += 1\n",
    "    elif j == \"Ciências da vida\":\n",
    "        contador_bio_menos += 1\n",
    "\n",
    "contador_geral_mais = [contador_materia_mais, contador_humanas_mais, contador_bio_mais]\n",
    "contador_geral_menos = [contador_materia_menos, contador_humanas_menos, contador_bio_menos]\n",
    "\n",
    "fig, ax = plt.subplots()\n",
    "\n",
    "ciências = [\"Ciências da matéria\", \"Ciências humanas\",\"Ciências da vida\"]\n",
    "bar_labels = [\"Ciências da matéria\", \"Ciências humanas\",\"Ciências da vida\"]\n",
    "bar_colors = ['#f7c95c', '#bd1111', '#258a1c']\n",
    "\n",
    "ax.bar(ciências,contador_geral_mais, label=bar_labels, color=bar_colors)\n",
    "\n",
    "ax.set_ylabel('Contagem de escolhas')\n",
    "ax.set_title('Áreas de maior afinidade')\n",
    "ax.legend(title='Áreas da ciência')\n",
    "plt.yticks([*range(0,contador_materia_mais + 1)])\n",
    "\n",
    "plt.show()\n",
    "\n",
    "print()\n",
    "\n",
    "fig, bx = plt.subplots()\n",
    "\n",
    "bx.bar(ciências, contador_geral_menos, label=bar_labels, color=bar_colors)\n",
    "bx.set_ylabel('Contagem de escolhas')\n",
    "bx.set_title('Áreas de menor afinidade')\n",
    "bx.legend(title='Áreas da ciência')\n",
    "plt.yticks([*range(0,contador_bio_menos + 1)])\n",
    "\n",
    "plt.show()"
   ]
  },
  {
   "cell_type": "markdown",
   "metadata": {
    "id": "v5tIPlBYC2Ks"
   },
   "source": [
    "<p style='text-align:justify'> Uma das análises que pode ser importante de uma amostra retirada de alunos que estudam em um certo curso de BCT é a respeito de como está distribuído as áreas de mais ou menos afinidade que cada indivíduo possui. Assim, com o primeiro gráfico, vemos que a amostra possui uma forte tendência para as ciências da matéria, já que mais da metade da amostra optou por essa área. Em contrapartida, a área de menor afinidade escolhida foi ciências da vida, seguido próximo de ciências humanas. Por fim, isso envidencia para nosso estudo que o perfil de pesquisa para os futuros cientistas dessa amostra serão direcionados para áreas como Física e Química."
   ]
  },
  {
   "cell_type": "markdown",
   "metadata": {
    "id": "L0CgqEUtDAGm"
   },
   "source": [
    "### Opinião sobre azeitona"
   ]
  },
  {
   "cell_type": "code",
   "execution_count": 12,
   "metadata": {
    "colab": {
     "base_uri": "https://localhost:8080/"
    },
    "id": "MnUTFj-1DHXG",
    "outputId": "511d2147-0a66-46eb-efe5-e1577956e367"
   },
   "outputs": [
    {
     "name": "stdout",
     "output_type": "stream",
     "text": [
      "O valor da moda é Gosto muito\n"
     ]
    }
   ],
   "source": [
    "azeitona_array = df_quest[azeitona]\n",
    "\n",
    "print(moda(azeitona_array))"
   ]
  },
  {
   "cell_type": "markdown",
   "metadata": {
    "id": "ljWV1z9mEipp"
   },
   "source": [
    "<p style='text-align:justify'> Esse é possívelmente o dado qualitativo que menos pode trazer informações, já que é basicamente a opinião sobre um alimento. Assim, nós até pensamos em tentar relacioná-lo de alguma maneira com o mês de aniversário, supondo que poderia haver alguma relação entre a idade do desenvolvimento do paladar e quando é a época de colheita da azeitona. Entretanto, não foi possível achar nenhum estudo sobre e a amostra é muito pequena para conseguir se fazer um estudo dessa relação, sem contar que inúmeros outros fatores poderiam contar, como a cultura do indíviduo ou então como sua alimentação foi estruturada durante o seu crescimento. Sendo assim, a única informação que daria pra ser tirada sobre a opinião de azeitona na amostra é que a maioria dos indíviduos gosta de azeitona."
   ]
  },
  {
   "cell_type": "markdown",
   "metadata": {
    "id": "jHvOA8DDRPRo"
   },
   "source": [
    "## Resultado e discussão\n",
    "\n"
   ]
  },
  {
   "cell_type": "markdown",
   "metadata": {
    "id": "BVmGI0_aGSi4"
   },
   "source": [
    "<p style='text-align:justify'> Foi possível ver que a análise estatística permite analisar diversas características da amostra e também obter diferentes informações sobre o perfil de amostra da turma. Além disso, foi possível correlacionar alguns pares de dados e, em alguns casos, descobrir relações valiosas e que existem, enquanto em outros, foram testes que não apresentaram resultados concretos mas que talvez pudessem ser melhor apurados em uma amostra maior."
   ]
  },
  {
   "cell_type": "markdown",
   "metadata": {
    "id": "N21Bl0hcRPRo"
   },
   "source": [
    "## Referências\n",
    "\n"
   ]
  },
  {
   "cell_type": "markdown",
   "metadata": {
    "id": "rNRHJjNgHL3R"
   },
   "source": [
    "[Documentação pandas](https://pandas.pydata.org)\n"
   ]
  },
  {
   "cell_type": "markdown",
   "metadata": {
    "id": "1t9nCLDaRPRp"
   },
   "source": [
    "\n",
    "\n"
   ]
  },
  {
   "cell_type": "code",
   "execution_count": null,
   "metadata": {
    "id": "zHFKgqI0HLfp"
   },
   "outputs": [],
   "source": []
  },
  {
   "cell_type": "code",
   "execution_count": null,
   "metadata": {
    "id": "obDnAhwQG2dj"
   },
   "outputs": [],
   "source": []
  },
  {
   "cell_type": "markdown",
   "metadata": {
    "id": "O8voJYG3RPRp"
   },
   "source": [
    "## Playground\n",
    "\n"
   ]
  },
  {
   "cell_type": "code",
   "execution_count": 13,
   "metadata": {
    "id": "7CQCdr9ozhfo"
   },
   "outputs": [
    {
     "data": {
      "text/html": [
       "<div>\n",
       "<style scoped>\n",
       "    .dataframe tbody tr th:only-of-type {\n",
       "        vertical-align: middle;\n",
       "    }\n",
       "\n",
       "    .dataframe tbody tr th {\n",
       "        vertical-align: top;\n",
       "    }\n",
       "\n",
       "    .dataframe thead th {\n",
       "        text-align: right;\n",
       "    }\n",
       "</style>\n",
       "<table border=\"1\" class=\"dataframe\">\n",
       "  <thead>\n",
       "    <tr style=\"text-align: right;\">\n",
       "      <th></th>\n",
       "      <th>Qual é a sua altura em centímetros?\\n</th>\n",
       "      <th>Qual é o número de sapato que você calça?\\n</th>\n",
       "      <th>Qual o mês do seu aniversário?\\n</th>\n",
       "      <th>Quantos irmãos você tem?\\n</th>\n",
       "      <th>Quantos livros você leu ano passado?\\n</th>\n",
       "      <th>Das cores abaixo, qual é a sua favorita (ou a cor que mais gosta se sua cor favorita mesmo não estiver na lista)?\\n</th>\n",
       "      <th>Qual a sua opinião sobre azeitona?\\n</th>\n",
       "      <th>Qual destas linhas de estudo é a que você tem mais afinidade?\\n</th>\n",
       "      <th>Qual destas linhas de estudo é a que você tem menos afinidade?\\n</th>\n",
       "      <th>Cachorros ou gatos?\\n</th>\n",
       "    </tr>\n",
       "  </thead>\n",
       "  <tbody>\n",
       "    <tr>\n",
       "      <th>0</th>\n",
       "      <td>174.00</td>\n",
       "      <td>42</td>\n",
       "      <td>10</td>\n",
       "      <td>18</td>\n",
       "      <td>3.0</td>\n",
       "      <td>Preto</td>\n",
       "      <td>Desgosto muito</td>\n",
       "      <td>Ciências da matéria</td>\n",
       "      <td>Ciências da vida</td>\n",
       "      <td>Cachorros!</td>\n",
       "    </tr>\n",
       "    <tr>\n",
       "      <th>1</th>\n",
       "      <td>17.00</td>\n",
       "      <td>41</td>\n",
       "      <td>8</td>\n",
       "      <td>0</td>\n",
       "      <td>14.0</td>\n",
       "      <td>Verde</td>\n",
       "      <td>Gosto muito</td>\n",
       "      <td>Ciências humanas</td>\n",
       "      <td>Ciências da vida</td>\n",
       "      <td>Gatos!</td>\n",
       "    </tr>\n",
       "    <tr>\n",
       "      <th>2</th>\n",
       "      <td>173.00</td>\n",
       "      <td>39</td>\n",
       "      <td>5</td>\n",
       "      <td>2</td>\n",
       "      <td>NaN</td>\n",
       "      <td>Amarelo</td>\n",
       "      <td>Desgosto muito</td>\n",
       "      <td>Ciências da vida</td>\n",
       "      <td>Ciências da matéria</td>\n",
       "      <td>Gatos!</td>\n",
       "    </tr>\n",
       "    <tr>\n",
       "      <th>3</th>\n",
       "      <td>182.00</td>\n",
       "      <td>40</td>\n",
       "      <td>5</td>\n",
       "      <td>3</td>\n",
       "      <td>5.0</td>\n",
       "      <td>Rosa</td>\n",
       "      <td>Gosto muito</td>\n",
       "      <td>Ciências humanas</td>\n",
       "      <td>Ciências da vida</td>\n",
       "      <td>Gatos!</td>\n",
       "    </tr>\n",
       "    <tr>\n",
       "      <th>4</th>\n",
       "      <td>1545.00</td>\n",
       "      <td>34</td>\n",
       "      <td>11</td>\n",
       "      <td>0</td>\n",
       "      <td>4.0</td>\n",
       "      <td>Preto</td>\n",
       "      <td>Desgosto muito</td>\n",
       "      <td>Ciências da matéria</td>\n",
       "      <td>Ciências da vida</td>\n",
       "      <td>Gatos!</td>\n",
       "    </tr>\n",
       "    <tr>\n",
       "      <th>5</th>\n",
       "      <td>169.00</td>\n",
       "      <td>37</td>\n",
       "      <td>10</td>\n",
       "      <td>1</td>\n",
       "      <td>10.0</td>\n",
       "      <td>Preto</td>\n",
       "      <td>Gosto muito</td>\n",
       "      <td>Ciências da matéria</td>\n",
       "      <td>Ciências da vida</td>\n",
       "      <td>Cachorros!</td>\n",
       "    </tr>\n",
       "    <tr>\n",
       "      <th>6</th>\n",
       "      <td>162.00</td>\n",
       "      <td>39</td>\n",
       "      <td>9</td>\n",
       "      <td>0</td>\n",
       "      <td>20.0</td>\n",
       "      <td>Roxo</td>\n",
       "      <td>Gosto pouco</td>\n",
       "      <td>Ciências da vida</td>\n",
       "      <td>Ciências da matéria</td>\n",
       "      <td>Cachorros!</td>\n",
       "    </tr>\n",
       "    <tr>\n",
       "      <th>7</th>\n",
       "      <td>161.00</td>\n",
       "      <td>36</td>\n",
       "      <td>5</td>\n",
       "      <td>0</td>\n",
       "      <td>7.0</td>\n",
       "      <td>Azul</td>\n",
       "      <td>Desgosto muito</td>\n",
       "      <td>Ciências da matéria</td>\n",
       "      <td>Ciências da vida</td>\n",
       "      <td>Cachorros!</td>\n",
       "    </tr>\n",
       "    <tr>\n",
       "      <th>8</th>\n",
       "      <td>188.00</td>\n",
       "      <td>44</td>\n",
       "      <td>11</td>\n",
       "      <td>6</td>\n",
       "      <td>7.0</td>\n",
       "      <td>Cinza</td>\n",
       "      <td>Gosto muito</td>\n",
       "      <td>Ciências da matéria</td>\n",
       "      <td>Ciências humanas</td>\n",
       "      <td>Gatos!</td>\n",
       "    </tr>\n",
       "    <tr>\n",
       "      <th>9</th>\n",
       "      <td>152.00</td>\n",
       "      <td>32</td>\n",
       "      <td>7</td>\n",
       "      <td>1</td>\n",
       "      <td>3.0</td>\n",
       "      <td>Verde</td>\n",
       "      <td>Gosto pouco</td>\n",
       "      <td>Ciências da vida</td>\n",
       "      <td>Ciências da matéria</td>\n",
       "      <td>Gatos!</td>\n",
       "    </tr>\n",
       "    <tr>\n",
       "      <th>10</th>\n",
       "      <td>160.00</td>\n",
       "      <td>35</td>\n",
       "      <td>5</td>\n",
       "      <td>1</td>\n",
       "      <td>34.0</td>\n",
       "      <td>Amarelo</td>\n",
       "      <td>Gosto pouco</td>\n",
       "      <td>Ciências da matéria</td>\n",
       "      <td>Ciências da vida</td>\n",
       "      <td>Gatos!</td>\n",
       "    </tr>\n",
       "    <tr>\n",
       "      <th>11</th>\n",
       "      <td>180.00</td>\n",
       "      <td>40</td>\n",
       "      <td>11</td>\n",
       "      <td>1</td>\n",
       "      <td>5.0</td>\n",
       "      <td>Azul</td>\n",
       "      <td>Gosto pouco</td>\n",
       "      <td>Ciências da matéria</td>\n",
       "      <td>Ciências humanas</td>\n",
       "      <td>Cachorros!</td>\n",
       "    </tr>\n",
       "    <tr>\n",
       "      <th>12</th>\n",
       "      <td>153.00</td>\n",
       "      <td>35</td>\n",
       "      <td>5</td>\n",
       "      <td>2</td>\n",
       "      <td>7.0</td>\n",
       "      <td>Rosa</td>\n",
       "      <td>Desgosto muito</td>\n",
       "      <td>Ciências da vida</td>\n",
       "      <td>Ciências humanas</td>\n",
       "      <td>Cachorros!</td>\n",
       "    </tr>\n",
       "    <tr>\n",
       "      <th>13</th>\n",
       "      <td>155.00</td>\n",
       "      <td>35</td>\n",
       "      <td>2</td>\n",
       "      <td>0</td>\n",
       "      <td>8.0</td>\n",
       "      <td>Verde</td>\n",
       "      <td>Gosto pouco</td>\n",
       "      <td>Ciências da matéria</td>\n",
       "      <td>Ciências da vida</td>\n",
       "      <td>Gatos!</td>\n",
       "    </tr>\n",
       "    <tr>\n",
       "      <th>14</th>\n",
       "      <td>170.00</td>\n",
       "      <td>42</td>\n",
       "      <td>3</td>\n",
       "      <td>0</td>\n",
       "      <td>7.0</td>\n",
       "      <td>Azul</td>\n",
       "      <td>Gosto muito</td>\n",
       "      <td>Ciências humanas</td>\n",
       "      <td>Ciências da vida</td>\n",
       "      <td>Cachorros!</td>\n",
       "    </tr>\n",
       "    <tr>\n",
       "      <th>15</th>\n",
       "      <td>1.71</td>\n",
       "      <td>41</td>\n",
       "      <td>5</td>\n",
       "      <td>2</td>\n",
       "      <td>5.0</td>\n",
       "      <td>Cinza</td>\n",
       "      <td>Gosto muito</td>\n",
       "      <td>Ciências da vida</td>\n",
       "      <td>Ciências da matéria</td>\n",
       "      <td>Cachorros!</td>\n",
       "    </tr>\n",
       "    <tr>\n",
       "      <th>16</th>\n",
       "      <td>170.00</td>\n",
       "      <td>40</td>\n",
       "      <td>1</td>\n",
       "      <td>1</td>\n",
       "      <td>0.0</td>\n",
       "      <td>Preto</td>\n",
       "      <td>Desgosto pouco</td>\n",
       "      <td>Ciências da matéria</td>\n",
       "      <td>Ciências humanas</td>\n",
       "      <td>Cachorros!</td>\n",
       "    </tr>\n",
       "    <tr>\n",
       "      <th>17</th>\n",
       "      <td>191.00</td>\n",
       "      <td>47</td>\n",
       "      <td>11</td>\n",
       "      <td>1</td>\n",
       "      <td>15.0</td>\n",
       "      <td>Roxo</td>\n",
       "      <td>Gosto muito</td>\n",
       "      <td>Ciências da matéria</td>\n",
       "      <td>Ciências humanas</td>\n",
       "      <td>Cachorros!</td>\n",
       "    </tr>\n",
       "    <tr>\n",
       "      <th>18</th>\n",
       "      <td>169.00</td>\n",
       "      <td>39</td>\n",
       "      <td>9</td>\n",
       "      <td>2</td>\n",
       "      <td>8.0</td>\n",
       "      <td>Amarelo</td>\n",
       "      <td>Não gosto nem desgosto</td>\n",
       "      <td>Ciências da vida</td>\n",
       "      <td>Ciências humanas</td>\n",
       "      <td>Gatos!</td>\n",
       "    </tr>\n",
       "    <tr>\n",
       "      <th>19</th>\n",
       "      <td>176.00</td>\n",
       "      <td>40</td>\n",
       "      <td>10</td>\n",
       "      <td>0</td>\n",
       "      <td>5.0</td>\n",
       "      <td>Azul</td>\n",
       "      <td>Gosto muito</td>\n",
       "      <td>Ciências da matéria</td>\n",
       "      <td>Ciências da vida</td>\n",
       "      <td>Cachorros!</td>\n",
       "    </tr>\n",
       "    <tr>\n",
       "      <th>20</th>\n",
       "      <td>175.00</td>\n",
       "      <td>40</td>\n",
       "      <td>8</td>\n",
       "      <td>1</td>\n",
       "      <td>10.0</td>\n",
       "      <td>Preto</td>\n",
       "      <td>Gosto pouco</td>\n",
       "      <td>Ciências da matéria</td>\n",
       "      <td>Ciências da vida</td>\n",
       "      <td>Cachorros!</td>\n",
       "    </tr>\n",
       "    <tr>\n",
       "      <th>21</th>\n",
       "      <td>170.00</td>\n",
       "      <td>40</td>\n",
       "      <td>5</td>\n",
       "      <td>3</td>\n",
       "      <td>2.0</td>\n",
       "      <td>Verde</td>\n",
       "      <td>Gosto pouco</td>\n",
       "      <td>Ciências da matéria</td>\n",
       "      <td>Ciências humanas</td>\n",
       "      <td>Gatos!</td>\n",
       "    </tr>\n",
       "    <tr>\n",
       "      <th>22</th>\n",
       "      <td>161.00</td>\n",
       "      <td>39</td>\n",
       "      <td>6</td>\n",
       "      <td>1</td>\n",
       "      <td>2.0</td>\n",
       "      <td>Vermelho</td>\n",
       "      <td>Gosto pouco</td>\n",
       "      <td>Ciências da matéria</td>\n",
       "      <td>Ciências humanas</td>\n",
       "      <td>Cachorros!</td>\n",
       "    </tr>\n",
       "    <tr>\n",
       "      <th>23</th>\n",
       "      <td>184.00</td>\n",
       "      <td>44</td>\n",
       "      <td>2</td>\n",
       "      <td>1</td>\n",
       "      <td>13.0</td>\n",
       "      <td>Azul</td>\n",
       "      <td>Gosto muito</td>\n",
       "      <td>Ciências da vida</td>\n",
       "      <td>Ciências humanas</td>\n",
       "      <td>Cachorros!</td>\n",
       "    </tr>\n",
       "    <tr>\n",
       "      <th>24</th>\n",
       "      <td>175.00</td>\n",
       "      <td>42</td>\n",
       "      <td>1</td>\n",
       "      <td>4</td>\n",
       "      <td>5.0</td>\n",
       "      <td>Azul</td>\n",
       "      <td>Gosto muito</td>\n",
       "      <td>Ciências da matéria</td>\n",
       "      <td>Ciências da vida</td>\n",
       "      <td>Gatos!</td>\n",
       "    </tr>\n",
       "    <tr>\n",
       "      <th>25</th>\n",
       "      <td>176.00</td>\n",
       "      <td>41</td>\n",
       "      <td>6</td>\n",
       "      <td>1</td>\n",
       "      <td>32.0</td>\n",
       "      <td>Verde</td>\n",
       "      <td>Gosto pouco</td>\n",
       "      <td>Ciências da vida</td>\n",
       "      <td>Ciências humanas</td>\n",
       "      <td>Gatos!</td>\n",
       "    </tr>\n",
       "    <tr>\n",
       "      <th>26</th>\n",
       "      <td>169.00</td>\n",
       "      <td>42</td>\n",
       "      <td>12</td>\n",
       "      <td>0</td>\n",
       "      <td>0.0</td>\n",
       "      <td>Preto</td>\n",
       "      <td>Desgosto muito</td>\n",
       "      <td>Ciências da matéria</td>\n",
       "      <td>Ciências humanas</td>\n",
       "      <td>Cachorros!</td>\n",
       "    </tr>\n",
       "    <tr>\n",
       "      <th>27</th>\n",
       "      <td>170.00</td>\n",
       "      <td>40</td>\n",
       "      <td>5</td>\n",
       "      <td>3</td>\n",
       "      <td>4.0</td>\n",
       "      <td>Preto</td>\n",
       "      <td>Gosto muito</td>\n",
       "      <td>Ciências da vida</td>\n",
       "      <td>Ciências humanas</td>\n",
       "      <td>Gatos!</td>\n",
       "    </tr>\n",
       "    <tr>\n",
       "      <th>28</th>\n",
       "      <td>170.00</td>\n",
       "      <td>38</td>\n",
       "      <td>7</td>\n",
       "      <td>4</td>\n",
       "      <td>1.0</td>\n",
       "      <td>Verde</td>\n",
       "      <td>Desgosto muito</td>\n",
       "      <td>Ciências da vida</td>\n",
       "      <td>Ciências da matéria</td>\n",
       "      <td>Cachorros!</td>\n",
       "    </tr>\n",
       "    <tr>\n",
       "      <th>29</th>\n",
       "      <td>171.00</td>\n",
       "      <td>42</td>\n",
       "      <td>3</td>\n",
       "      <td>3</td>\n",
       "      <td>2.0</td>\n",
       "      <td>Azul</td>\n",
       "      <td>Gosto pouco</td>\n",
       "      <td>Ciências da matéria</td>\n",
       "      <td>Ciências da vida</td>\n",
       "      <td>Gatos!</td>\n",
       "    </tr>\n",
       "    <tr>\n",
       "      <th>30</th>\n",
       "      <td>175.00</td>\n",
       "      <td>41</td>\n",
       "      <td>12</td>\n",
       "      <td>1</td>\n",
       "      <td>30.0</td>\n",
       "      <td>Preto</td>\n",
       "      <td>Desgosto muito</td>\n",
       "      <td>Ciências da matéria</td>\n",
       "      <td>Ciências da vida</td>\n",
       "      <td>Cachorros!</td>\n",
       "    </tr>\n",
       "  </tbody>\n",
       "</table>\n",
       "</div>"
      ],
      "text/plain": [
       "    Qual é a sua altura em centímetros?\\n  \\\n",
       "0                                  174.00   \n",
       "1                                   17.00   \n",
       "2                                  173.00   \n",
       "3                                  182.00   \n",
       "4                                 1545.00   \n",
       "5                                  169.00   \n",
       "6                                  162.00   \n",
       "7                                  161.00   \n",
       "8                                  188.00   \n",
       "9                                  152.00   \n",
       "10                                 160.00   \n",
       "11                                 180.00   \n",
       "12                                 153.00   \n",
       "13                                 155.00   \n",
       "14                                 170.00   \n",
       "15                                   1.71   \n",
       "16                                 170.00   \n",
       "17                                 191.00   \n",
       "18                                 169.00   \n",
       "19                                 176.00   \n",
       "20                                 175.00   \n",
       "21                                 170.00   \n",
       "22                                 161.00   \n",
       "23                                 184.00   \n",
       "24                                 175.00   \n",
       "25                                 176.00   \n",
       "26                                 169.00   \n",
       "27                                 170.00   \n",
       "28                                 170.00   \n",
       "29                                 171.00   \n",
       "30                                 175.00   \n",
       "\n",
       "    Qual é o número de sapato que você calça?\\n  \\\n",
       "0                                            42   \n",
       "1                                            41   \n",
       "2                                            39   \n",
       "3                                            40   \n",
       "4                                            34   \n",
       "5                                            37   \n",
       "6                                            39   \n",
       "7                                            36   \n",
       "8                                            44   \n",
       "9                                            32   \n",
       "10                                           35   \n",
       "11                                           40   \n",
       "12                                           35   \n",
       "13                                           35   \n",
       "14                                           42   \n",
       "15                                           41   \n",
       "16                                           40   \n",
       "17                                           47   \n",
       "18                                           39   \n",
       "19                                           40   \n",
       "20                                           40   \n",
       "21                                           40   \n",
       "22                                           39   \n",
       "23                                           44   \n",
       "24                                           42   \n",
       "25                                           41   \n",
       "26                                           42   \n",
       "27                                           40   \n",
       "28                                           38   \n",
       "29                                           42   \n",
       "30                                           41   \n",
       "\n",
       "    Qual o mês do seu aniversário?\\n  Quantos irmãos você tem?\\n  \\\n",
       "0                                 10                          18   \n",
       "1                                  8                           0   \n",
       "2                                  5                           2   \n",
       "3                                  5                           3   \n",
       "4                                 11                           0   \n",
       "5                                 10                           1   \n",
       "6                                  9                           0   \n",
       "7                                  5                           0   \n",
       "8                                 11                           6   \n",
       "9                                  7                           1   \n",
       "10                                 5                           1   \n",
       "11                                11                           1   \n",
       "12                                 5                           2   \n",
       "13                                 2                           0   \n",
       "14                                 3                           0   \n",
       "15                                 5                           2   \n",
       "16                                 1                           1   \n",
       "17                                11                           1   \n",
       "18                                 9                           2   \n",
       "19                                10                           0   \n",
       "20                                 8                           1   \n",
       "21                                 5                           3   \n",
       "22                                 6                           1   \n",
       "23                                 2                           1   \n",
       "24                                 1                           4   \n",
       "25                                 6                           1   \n",
       "26                                12                           0   \n",
       "27                                 5                           3   \n",
       "28                                 7                           4   \n",
       "29                                 3                           3   \n",
       "30                                12                           1   \n",
       "\n",
       "    Quantos livros você leu ano passado?\\n  \\\n",
       "0                                      3.0   \n",
       "1                                     14.0   \n",
       "2                                      NaN   \n",
       "3                                      5.0   \n",
       "4                                      4.0   \n",
       "5                                     10.0   \n",
       "6                                     20.0   \n",
       "7                                      7.0   \n",
       "8                                      7.0   \n",
       "9                                      3.0   \n",
       "10                                    34.0   \n",
       "11                                     5.0   \n",
       "12                                     7.0   \n",
       "13                                     8.0   \n",
       "14                                     7.0   \n",
       "15                                     5.0   \n",
       "16                                     0.0   \n",
       "17                                    15.0   \n",
       "18                                     8.0   \n",
       "19                                     5.0   \n",
       "20                                    10.0   \n",
       "21                                     2.0   \n",
       "22                                     2.0   \n",
       "23                                    13.0   \n",
       "24                                     5.0   \n",
       "25                                    32.0   \n",
       "26                                     0.0   \n",
       "27                                     4.0   \n",
       "28                                     1.0   \n",
       "29                                     2.0   \n",
       "30                                    30.0   \n",
       "\n",
       "   Das cores abaixo, qual é a sua favorita (ou a cor que mais gosta se sua cor favorita mesmo não estiver na lista)?\\n  \\\n",
       "0                                               Preto                                                                    \n",
       "1                                               Verde                                                                    \n",
       "2                                             Amarelo                                                                    \n",
       "3                                                Rosa                                                                    \n",
       "4                                               Preto                                                                    \n",
       "5                                               Preto                                                                    \n",
       "6                                                Roxo                                                                    \n",
       "7                                                Azul                                                                    \n",
       "8                                               Cinza                                                                    \n",
       "9                                               Verde                                                                    \n",
       "10                                            Amarelo                                                                    \n",
       "11                                               Azul                                                                    \n",
       "12                                               Rosa                                                                    \n",
       "13                                              Verde                                                                    \n",
       "14                                               Azul                                                                    \n",
       "15                                              Cinza                                                                    \n",
       "16                                              Preto                                                                    \n",
       "17                                               Roxo                                                                    \n",
       "18                                            Amarelo                                                                    \n",
       "19                                               Azul                                                                    \n",
       "20                                              Preto                                                                    \n",
       "21                                              Verde                                                                    \n",
       "22                                           Vermelho                                                                    \n",
       "23                                               Azul                                                                    \n",
       "24                                               Azul                                                                    \n",
       "25                                              Verde                                                                    \n",
       "26                                              Preto                                                                    \n",
       "27                                              Preto                                                                    \n",
       "28                                              Verde                                                                    \n",
       "29                                               Azul                                                                    \n",
       "30                                              Preto                                                                    \n",
       "\n",
       "   Qual a sua opinião sobre azeitona?\\n  \\\n",
       "0                        Desgosto muito   \n",
       "1                           Gosto muito   \n",
       "2                        Desgosto muito   \n",
       "3                           Gosto muito   \n",
       "4                        Desgosto muito   \n",
       "5                           Gosto muito   \n",
       "6                           Gosto pouco   \n",
       "7                        Desgosto muito   \n",
       "8                           Gosto muito   \n",
       "9                           Gosto pouco   \n",
       "10                          Gosto pouco   \n",
       "11                          Gosto pouco   \n",
       "12                       Desgosto muito   \n",
       "13                          Gosto pouco   \n",
       "14                          Gosto muito   \n",
       "15                          Gosto muito   \n",
       "16                       Desgosto pouco   \n",
       "17                          Gosto muito   \n",
       "18               Não gosto nem desgosto   \n",
       "19                          Gosto muito   \n",
       "20                          Gosto pouco   \n",
       "21                          Gosto pouco   \n",
       "22                          Gosto pouco   \n",
       "23                          Gosto muito   \n",
       "24                          Gosto muito   \n",
       "25                          Gosto pouco   \n",
       "26                       Desgosto muito   \n",
       "27                          Gosto muito   \n",
       "28                       Desgosto muito   \n",
       "29                          Gosto pouco   \n",
       "30                       Desgosto muito   \n",
       "\n",
       "   Qual destas linhas de estudo é a que você tem mais afinidade?\\n  \\\n",
       "0                                 Ciências da matéria                \n",
       "1                                    Ciências humanas                \n",
       "2                                    Ciências da vida                \n",
       "3                                    Ciências humanas                \n",
       "4                                 Ciências da matéria                \n",
       "5                                 Ciências da matéria                \n",
       "6                                    Ciências da vida                \n",
       "7                                 Ciências da matéria                \n",
       "8                                 Ciências da matéria                \n",
       "9                                    Ciências da vida                \n",
       "10                                Ciências da matéria                \n",
       "11                                Ciências da matéria                \n",
       "12                                   Ciências da vida                \n",
       "13                                Ciências da matéria                \n",
       "14                                   Ciências humanas                \n",
       "15                                   Ciências da vida                \n",
       "16                                Ciências da matéria                \n",
       "17                                Ciências da matéria                \n",
       "18                                   Ciências da vida                \n",
       "19                                Ciências da matéria                \n",
       "20                                Ciências da matéria                \n",
       "21                                Ciências da matéria                \n",
       "22                                Ciências da matéria                \n",
       "23                                   Ciências da vida                \n",
       "24                                Ciências da matéria                \n",
       "25                                   Ciências da vida                \n",
       "26                                Ciências da matéria                \n",
       "27                                   Ciências da vida                \n",
       "28                                   Ciências da vida                \n",
       "29                                Ciências da matéria                \n",
       "30                                Ciências da matéria                \n",
       "\n",
       "   Qual destas linhas de estudo é a que você tem menos afinidade?\\n  \\\n",
       "0                                    Ciências da vida                 \n",
       "1                                    Ciências da vida                 \n",
       "2                                 Ciências da matéria                 \n",
       "3                                    Ciências da vida                 \n",
       "4                                    Ciências da vida                 \n",
       "5                                    Ciências da vida                 \n",
       "6                                 Ciências da matéria                 \n",
       "7                                    Ciências da vida                 \n",
       "8                                    Ciências humanas                 \n",
       "9                                 Ciências da matéria                 \n",
       "10                                   Ciências da vida                 \n",
       "11                                   Ciências humanas                 \n",
       "12                                   Ciências humanas                 \n",
       "13                                   Ciências da vida                 \n",
       "14                                   Ciências da vida                 \n",
       "15                                Ciências da matéria                 \n",
       "16                                   Ciências humanas                 \n",
       "17                                   Ciências humanas                 \n",
       "18                                   Ciências humanas                 \n",
       "19                                   Ciências da vida                 \n",
       "20                                   Ciências da vida                 \n",
       "21                                   Ciências humanas                 \n",
       "22                                   Ciências humanas                 \n",
       "23                                   Ciências humanas                 \n",
       "24                                   Ciências da vida                 \n",
       "25                                   Ciências humanas                 \n",
       "26                                   Ciências humanas                 \n",
       "27                                   Ciências humanas                 \n",
       "28                                Ciências da matéria                 \n",
       "29                                   Ciências da vida                 \n",
       "30                                   Ciências da vida                 \n",
       "\n",
       "   Cachorros ou gatos?\\n  \n",
       "0             Cachorros!  \n",
       "1                 Gatos!  \n",
       "2                 Gatos!  \n",
       "3                 Gatos!  \n",
       "4                 Gatos!  \n",
       "5             Cachorros!  \n",
       "6             Cachorros!  \n",
       "7             Cachorros!  \n",
       "8                 Gatos!  \n",
       "9                 Gatos!  \n",
       "10                Gatos!  \n",
       "11            Cachorros!  \n",
       "12            Cachorros!  \n",
       "13                Gatos!  \n",
       "14            Cachorros!  \n",
       "15            Cachorros!  \n",
       "16            Cachorros!  \n",
       "17            Cachorros!  \n",
       "18                Gatos!  \n",
       "19            Cachorros!  \n",
       "20            Cachorros!  \n",
       "21                Gatos!  \n",
       "22            Cachorros!  \n",
       "23            Cachorros!  \n",
       "24                Gatos!  \n",
       "25                Gatos!  \n",
       "26            Cachorros!  \n",
       "27                Gatos!  \n",
       "28            Cachorros!  \n",
       "29                Gatos!  \n",
       "30            Cachorros!  "
      ]
     },
     "execution_count": 13,
     "metadata": {},
     "output_type": "execute_result"
    }
   ],
   "source": [
    "pd.read_excel(quest)"
   ]
  }
 ],
 "metadata": {
  "colab": {
   "collapsed_sections": [
    "jEZ-U92QRPRn",
    "beQK_7lP776I",
    "-RqZ36Z--X6x",
    "00vVsuksKC2g",
    "2Y4SGAYuPMw8",
    "A1MBWZW1ZDCd"
   ],
   "provenance": [],
   "toc_visible": true
  },
  "kernelspec": {
   "display_name": "ilumpy",
   "language": "python",
   "name": "ilumpy"
  },
  "language_info": {
   "codemirror_mode": {
    "name": "ipython",
    "version": 3
   },
   "file_extension": ".py",
   "mimetype": "text/x-python",
   "name": "python",
   "nbconvert_exporter": "python",
   "pygments_lexer": "ipython3",
   "version": "3.10.8"
  },
  "org": null
 },
 "nbformat": 4,
 "nbformat_minor": 4
}
