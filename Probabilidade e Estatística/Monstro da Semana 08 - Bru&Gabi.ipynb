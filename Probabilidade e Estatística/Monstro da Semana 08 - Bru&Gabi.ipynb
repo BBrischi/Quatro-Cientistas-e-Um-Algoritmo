{
 "cells": [
  {
   "cell_type": "markdown",
   "metadata": {},
   "source": [
    "Exercícios sobre distribuições\n",
    "==============================\n",
    "\n"
   ]
  },
  {
   "cell_type": "markdown",
   "metadata": {},
   "source": [
    "## Exercício 1 (25 pontos)\n",
    "\n"
   ]
  },
  {
   "cell_type": "markdown",
   "metadata": {},
   "source": [
    "Considere que a variável aleatória $X$ apresenta a seguinte pdf:\n",
    "\n",
    "$$\n",
    "f(x)=\\begin{cases}\n",
    "c(1-x^2) & -1 < x < 1\\\\\n",
    "0 & \\textrm{caso contrário}\n",
    "\\end{cases}\n",
    "$$\n",
    "\n",
    "Utilizando de seus conhecimentos adquiridos sobre distribuições de probabilidades, resolva as questões abaixo.\n",
    "\n",
    "1.  Encontre o valor de $c$. Se calcular de forma numérica, mostre os códigos. Se calcular de forma analítica, mostre todos os passos.\n",
    "\n",
    "2.  Encontre a forma analítica da cdf de $X$. Mostre todos os passos.\n",
    "\n",
    "3.  Calcule $P(|X| > 0,5)$. Mostre com clareza os passo do seu raciocínio.\n",
    "\n",
    "4.  Calcule $E[X]$.\n",
    "\n",
    "5.  Calcule $\\mathrm{Var}(X)$.\n",
    "\n",
    "**Nota**: pode resolver em papel a parte matemática e incluir a imagem no notebook e na entrega do teams. Mas lembrando que em LaTeX fica muito mais bonito e elegante :)\n",
    "\n"
   ]
  },
  {
   "cell_type": "markdown",
   "metadata": {},
   "source": [
    "## Resolução do exercício 1\n",
    "\n"
   ]
  },
  {
   "cell_type": "markdown",
   "metadata": {},
   "source": [
    "### Item 1"
   ]
  },
  {
   "cell_type": "markdown",
   "metadata": {},
   "source": [
    "<p style='text-align:justify'> Como consequência do axioma de Kolmogorov $[1]$ $[2]$, a integral da pdf $f(x)$ no intervalo de integração de $-\\infty$ até $+\\infty$ é igual a 1. Assim:\n",
    "    $$\\int_{-\\infty}^{\\infty}f(x) \\space \\text{d}x = 1 $$\n",
    "Como $x$ possui probabilidade apenas entre $-1$ e $1$, podemo reescrever os intervalos de integração:\n",
    "    $$ \\int_{-1}^{1} c(1-x^2) \\space \\text{d}x = 1 $$\n",
    "Assim, podemos encontrar $c$ de maneira analítica. Como $c$ é uma constante, sabemos que ele \"sai\" da integral, por não estar diferenciado em $x$.\n",
    "    \\begin{align*}\n",
    "    c\\int_{-1}^{1} (1-x^2) \\space \\text{d}x &= 1 \\\\\n",
    "    \\\\\n",
    "    c \\left[ x - \\frac{x^3}{3}\\right]_{-1}^{1} &= 1 \\\\\n",
    "    \\\\\n",
    "    c\\left[1 - \\frac{1}{3} - \\left(-1 + \\frac{1}{3} \\right) \\right] &= 1 \\\\\n",
    "    \\\\\n",
    "    c \\left[ \\frac{2}{3} + \\frac{2}{3} \\right] &= 1 \\\\\n",
    "    \\\\\n",
    "    c \\cdot \\frac{4}{3} &= 1 \\\\\n",
    "    \\\\\n",
    "    c &=  \\frac{3}{4}\n",
    "    \\end{align*}\n",
    "    \n",
    "<p style='text-align:justify'> Além disso, podemos calcular $c$ de maneira númerica usando código. Para isso, podemos escrever a constante $c$ como\n",
    "$$c = \\frac{1}{{\\int_{-1}^{1} (1 - x^2) \\, dx}} $$\n",
    "Então, implementamos um código usando a função <code>quad</code> da biblioteca <code>scipy.integrate</code>. Assim, utilizamos uma função para definir a pdf e resolvemos a integral de forma numérica usando <code>quad</code>. "
   ]
  },
  {
   "cell_type": "code",
   "execution_count": 7,
   "metadata": {},
   "outputs": [
    {
     "name": "stdout",
     "output_type": "stream",
     "text": [
      "O valor de c é 0.75\n"
     ]
    }
   ],
   "source": [
    "from scipy.integrate import quad\n",
    "\n",
    "\n",
    "def pdf_item1(x):\n",
    "    ''' \n",
    "    \n",
    "    Essa função recebe uma variável e retorna uma probabilidade de acordo com \n",
    "    a própria pdf.\n",
    "    \n",
    "    Args:\n",
    "        x: valor de entrada para retorno da probabilidade.\n",
    "    \n",
    "    '''\n",
    "    if 1 > x > -1:\n",
    "        return (1-x**2) \n",
    "    else:\n",
    "        return 0 \n",
    "\n",
    "integral = quad(pdf_item1,-1,1)[0]\n",
    "resultado = round(1/integral,2)\n",
    "\n",
    "\n",
    "print(f\"O valor de c é {resultado}\")"
   ]
  },
  {
   "cell_type": "markdown",
   "metadata": {},
   "source": [
    "### Item 2"
   ]
  },
  {
   "cell_type": "markdown",
   "metadata": {},
   "source": [
    "<p style='text-align:justify'>Sabemos que a Cumulative Density Function (CDF) é a integral da pdf. Vamos chamá-la de F(x). Assim, vamos integrar\n",
    "$$F(x) = \\int_{-\\infty}^{x} f(x)$$\n",
    "Sabemos que para $x < -1$, $f(x) = 0$. Assim, podemos mudar o intervalo de integração:\n",
    "$$F(x) = \\int_{-1}^{x} f(x)$$\n",
    "Agora, podemos incluir a constante  $c$ que obtivemos o valor na questão passada, além de incluir a própria função:\n",
    "$$F(x) =\\frac{3}{4}  \\int_{-1}^{x} (1-x^2)$$\n",
    "Como resultado, temos:\n",
    "\\begin{align}\n",
    "F(x) &=\\frac{3}{4}  \\int_{-1}^{x} (1-x^2)\n",
    "\\\\\n",
    "&= \\frac{3}{4} \\left[ x - \\frac{x^3}{3}\\right]_{-1}^{x}\n",
    "\\\\\n",
    "&= \\frac{3}{4} \\left[x - \\frac{x^3}{3} + \\frac{2}{3} \\right]\n",
    "\\end{align}\n",
    "Assim, a fórmula acima nos permite descobrir a probabilidade de $X$ ter um valor inferior ou igual a $x$ "
   ]
  },
  {
   "cell_type": "markdown",
   "metadata": {},
   "source": [
    "### Item 3"
   ]
  },
  {
   "cell_type": "markdown",
   "metadata": {},
   "source": [
    "<p style='text-align:justify'> Para descobrir $P(|X| > 0,5)$ usaremos a cdf para descobrir a probabilidade de X ter um valor inferior ou igual a 0,5. E essa probabilidade é complementar a $P(|X| > 0,5)$. Ou seja: calcularemos $1 - P(|X| \\leq 0,5)$:\n",
    "\n",
    "\\begin{align}\n",
    "P(|X| < 0.5) &= \\frac{3}{4} \\left[0.5 - \\frac{0.5^3}{3} + \\frac{2}{3} \\right] \\\\\n",
    "\\\\\n",
    "&= \\frac{3}{4} \\left[0.5 - \\frac{0.125}{3} + \\frac{2}{3} \\right] \\\\\n",
    "\\\\\n",
    "&= \\frac{3}{4} \\left[0.5 + \\frac{1,875}{3} \\right] \\\\\n",
    "\\\\\n",
    "&= \\frac{3}{4} \\cdot \\frac{3.375}{3} \\\\\n",
    "\\\\\n",
    "&= 0.84375 \\\\\n",
    "\\\\\n",
    "\\therefore P(|X| > 0,5) &= 1 - P(|X| \\leq 0,5) \\\\\n",
    "&= 1 - 0,84375 \\\\\n",
    "&= 0,15625\n",
    "\\end{align}\n",
    "\n",
    "<p style='text-align:justify'> Podemos resolver esse problema por meio de um código. Nele definimos uma função para a cdf e calculamos seu complementar."
   ]
  },
  {
   "cell_type": "code",
   "execution_count": 5,
   "metadata": {},
   "outputs": [
    {
     "name": "stdout",
     "output_type": "stream",
     "text": [
      "A probabilidade é 0.15625\n"
     ]
    }
   ],
   "source": [
    "def cdf(x):\n",
    "    '''\n",
    "    Essa função recebe uma variável e retornar a probabilidade acumulada até x\n",
    "    da cdf em questão.\n",
    "    \n",
    "    Args:\n",
    "        x: valor de entrada para retorno da probabilidade acumulada\n",
    "    '''\n",
    "    p = 3/4 * (x - (x**3/3) + 2/3)\n",
    "    return p\n",
    "\n",
    "     \n",
    "complementar = cdf(0.5)\n",
    "\n",
    "\n",
    "print(f\"A probabilidade é {1-complementar}\")"
   ]
  },
  {
   "cell_type": "markdown",
   "metadata": {},
   "source": [
    "### Item 4"
   ]
  },
  {
   "cell_type": "markdown",
   "metadata": {},
   "source": [
    "O valor esperado $E[X]$ de um pdf é dado como:\n",
    "$$\n",
    "\\boxed{E[X] = \\int_{-\\infty}^{\\infty} x \\cdot f(x)}\n",
    "$$\n",
    "\n",
    " \n",
    "\n",
    "usando a fórmula acima na nossa pdf:\n",
    "$$ E[X] =   \\int_{-\\infty}^{\\infty} x \\cdot  \\frac{3}{4} (1-x^2)$$\n",
    "\n",
    " \n",
    "\n",
    "Porém, como já foi visto, há probabilidade é não-nula apenas para $-1 < x < 1$. Assim, trocaremos os intervalos de integração:\n",
    "\n",
    " \n",
    "\n",
    "$$ E[X] =   \\int_{-1}^{1} x \\cdot  \\frac{3}{4} (1-x^2)$$\n",
    "\n",
    " \n",
    "\n",
    "Podemos passar a constante $\\frac{3}{4}$ para fora da integral:\n",
    "\n",
    " \n",
    "\n",
    "$$ E[X] =   \\frac{3}{4} \\int_{-1}^{1} x \\cdot   (1-x^2)$$\n",
    "\n",
    " \n",
    "\n",
    "Como os intervalos são simétricos e a função é ímpar, teremos:\n",
    "\n",
    "\\begin{align}\n",
    "\\frac{3}{4} \\int_{-1}^{1} x \\cdot   (1-x^2) &= 0 \\\\\n",
    "\\therefore E[X] &= 0  \n",
    "\\end{align}"
   ]
  },
  {
   "cell_type": "markdown",
   "metadata": {},
   "source": [
    "Podemos também resolver de forma numérica por meio de uma implementação já vista em notebooks passados $[3]$."
   ]
  },
  {
   "cell_type": "code",
   "execution_count": 29,
   "metadata": {},
   "outputs": [
    {
     "name": "stdout",
     "output_type": "stream",
     "text": [
      "0.0\n"
     ]
    }
   ],
   "source": [
    "def pdf_item4(x):\n",
    "    if 1 > x > -1:\n",
    "        return 0.75*(1-x**2) \n",
    "    else:\n",
    "        return 0\n",
    "\n",
    "def valor_esperado(pdf_item4, h=lambda x: x):\n",
    "    \"\"\"Computa o valor esperado para uma distribuição contínua.\"\"\"\n",
    "    return quad(lambda x: h(x) * pdf_item4(x), -np.inf, np.inf)[0]\n",
    "\n",
    "\n",
    "v_esperado = valor_esperado(pdf_item4)\n",
    "\n",
    " \n",
    "print(v_esperado)"
   ]
  },
  {
   "cell_type": "markdown",
   "metadata": {},
   "source": [
    "### Item 5"
   ]
  },
  {
   "cell_type": "markdown",
   "metadata": {},
   "source": [
    "<p style='text-align:justify'> Por definição, a variância pode ser dada por:\n",
    "    $$ \\boxed{\\text{Var}(X) = E\\left[\\left(X-\\mu_X\\right)^2\\right]}$$\n",
    "    \n",
    "Podemos calcular a variância por meio da implementação de um código visto em notebooks passados $[]$. Nele, armazenamos o valor esperado da pdf calculado pela função <code>valor_esperado</code>. Assim, definimos uma função <code>h(x)</code> para calcular $\\left(X-\\mu_X\\right)^2$ e calculamos o valor esperado da pdf e de <code>h(x)</code>."
   ]
  },
  {
   "cell_type": "code",
   "execution_count": 32,
   "metadata": {},
   "outputs": [
    {
     "name": "stdout",
     "output_type": "stream",
     "text": [
      "0.2\n"
     ]
    }
   ],
   "source": [
    "v_esperado = valor_esperado(pdf_item4)\n",
    "\n",
    "def h(x):\n",
    "    return (x - v_esperado) ** 2\n",
    "\n",
    "variancia = valor_esperado(pdf_item4, h)\n",
    "\n",
    "print(round(variancia, 2))"
   ]
  },
  {
   "cell_type": "markdown",
   "metadata": {},
   "source": [
    "## Exercício 2 (25 pontos)\n",
    "\n"
   ]
  },
  {
   "cell_type": "markdown",
   "metadata": {},
   "source": [
    "As reuniões do colegiado acontecem de terça-feira, tendo início às 12:30.\n",
    "\n",
    "O professor $A$ chega nesta reunião entre 12:30 e 12:35 seguindo uma distribuição uniforme de probabilidade.\n",
    "\n",
    "O professor $B$ chega nesta reunião seguindo uma distribuição normal de probabilidade com média 12:33 e desvio padrão de 0,5 minuto.\n",
    "\n",
    "A chegada dos professores $A$ e $B$ são eventos independentes.\n",
    "\n",
    "Qual é a probabilidade de que os professores $A$ e $B$ irão perder os 2 primeiros minutos da reunião do colegiado na próxima terça-feira?\n",
    "\n",
    "<u>Resolva este problema de forma numérica usando código</u>. O `scipy` [tem](https://docs.scipy.org/doc/scipy/reference/generated/scipy.stats.uniform.html#scipy.stats.uniform) a distribuição uniforme caso queira.\n",
    "\n",
    "**Dica**: Quem sabe representar os horários de outra maneira possa ajudar! Deixe claro para o leitor qualquer conversão feita.\n",
    "\n"
   ]
  },
  {
   "cell_type": "markdown",
   "metadata": {},
   "source": [
    "## Resolução do exercício 2\n",
    "\n"
   ]
  },
  {
   "cell_type": "markdown",
   "metadata": {},
   "source": [
    "<p style='text-align:justify'>Sabemos que a chegada dos professores $A$ e $B$ são eventos independentes. Assim, calcularemos as probabilidades individuais de cada professor perder os 2 primeiros minutos da reunião, e multiplicaremos essas probabilidades.\n",
    "\n",
    "<p style='text-align:justify'>Dado que o professor $A$ chega entre 12:30 e 12:35 (ou seja, em um intervalo de 5 minutos)* com uma distribuição uniforme, a probabilidade de ele chegar nos primeiros 2 minutos (0 a 2 minutos após 12:30) é 2 minutos dividido por 5 minutos, ou seja, $2/5$. E a probabilidade dele perder esses 2 minutos, portanto, é $1 - 2/5 = 3/5$.\n",
    "\n",
    "Para o professor $B$, usaremos a distribuição normal do `scipy`.\n",
    "    \n",
    "<p style='text-align:justify'>Assim, no código, usamos a integral da pdf em intervalos para $2 < x < 5$.\n",
    "    \n",
    "(*): Consideraremos 12:30 como tempo \"zero\" e continuaremos a contar por minutos."
   ]
  },
  {
   "cell_type": "code",
   "execution_count": 33,
   "metadata": {},
   "outputs": [
    {
     "name": "stdout",
     "output_type": "stream",
     "text": [
      "A probabilidade do professor A atrasar, ou seja, chegar entre os minutos  2 e 5 é de 60.0%\n",
      "A probabilidade do professor B atrasar, ou seja, chegar entre os minutos  2 e 5 é de 97.7%\n",
      "Logo a probabilidade dos professores A e B perderem os 2 primeiros minutos da reunião do colegiado na próxima terça-feira é 58.6%\n"
     ]
    }
   ],
   "source": [
    "import numpy as np\n",
    "from scipy.integrate import quad\n",
    "from scipy import stats\n",
    "\n",
    "\n",
    "def prof_A(x):\n",
    "    if 0 <= x <= 5:\n",
    "        return 1/5\n",
    "    else:\n",
    "        return 0\n",
    "\n",
    "\n",
    "def prof_B(x):\n",
    "    dist_normal = stats.norm(loc=3, scale=0.5)\n",
    "    return dist_normal.pdf(x)\n",
    "\n",
    "a = 2\n",
    "b = 5\n",
    "\n",
    "\n",
    "probA = quad(prof_A, a,b)[0]  \n",
    "probB = quad(prof_B, a, b)[0]  \n",
    "\n",
    " \n",
    "print(f\"A probabilidade do professor A atrasar, ou seja, chegar entre os minutos  {a} e {b} é de {probA * 100:.1f}%\")\n",
    "print(f\"A probabilidade do professor B atrasar, ou seja, chegar entre os minutos  {a} e {b} é de {probB * 100:.1f}%\")\n",
    "print(f\"Logo a probabilidade dos professores A e B perderem os 2 primeiros minutos da reunião do colegiado na próxima terça-feira é {probA*probB* 100:.1f}%\")"
   ]
  },
  {
   "cell_type": "markdown",
   "metadata": {},
   "source": [
    "## Referências\n",
    "\n"
   ]
  },
  {
   "cell_type": "markdown",
   "metadata": {},
   "source": [
    "Escreva nesta seção as referências consultadas.\n",
    "\n",
    "1.  Exercícios foram baseados no curso Data 140 de UC Berkeley [http://prob140.org/textbook/content/README.html](http://prob140.org/textbook/content/README.html)\n",
    "\n",
    "$[1]$ Notebook 4 - \"Probabilidade\"\n",
    "\n",
    "$[2]$ Notebook 8 - \"Outras distribuições de probabilidade\"\n",
    "\n",
    "$[3]$ Notebook 7 - \"Distribuição de probabilidade\"\n",
    "\n",
    "\n"
   ]
  },
  {
   "cell_type": "markdown",
   "metadata": {},
   "source": [
    "## Playground\n",
    "\n"
   ]
  },
  {
   "cell_type": "markdown",
   "metadata": {},
   "source": [
    "Use este espaço para fazer o que quiser. Não será considerado na correção.\n",
    "\n"
   ]
  },
  {
   "cell_type": "code",
   "execution_count": null,
   "metadata": {},
   "outputs": [],
   "source": []
  }
 ],
 "metadata": {
  "kernelspec": {
   "display_name": "ilumpy",
   "language": "python",
   "name": "ilumpy"
  },
  "language_info": {
   "codemirror_mode": {
    "name": "ipython",
    "version": 3
   },
   "file_extension": ".py",
   "mimetype": "text/x-python",
   "name": "python",
   "nbconvert_exporter": "python",
   "pygments_lexer": "ipython3",
   "version": "3.10.8"
  },
  "org": null
 },
 "nbformat": 4,
 "nbformat_minor": 4
}
