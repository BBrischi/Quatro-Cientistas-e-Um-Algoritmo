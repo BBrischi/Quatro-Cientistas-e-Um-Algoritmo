{
 "cells": [
  {
   "cell_type": "markdown",
   "metadata": {},
   "source": [
    "Provavelmente relevante\n",
    "=======================\n",
    "\n"
   ]
  },
  {
   "cell_type": "markdown",
   "metadata": {},
   "source": [
    "## Objetivo\n",
    "\n"
   ]
  },
  {
   "cell_type": "markdown",
   "metadata": {},
   "source": [
    " Resolva pelo menos 5 dos exercícios abaixo. Mostre de maneira clara a sua resolução e escreva uma breve conclusão para cada exercício. Certifique-se que você leu *todo* o notebook sobre probabilidade antes de iniciar suas resoluções. Mostre explicitamente o espaço amostral e o evento em questão sempre que o espaço amostral tiver menos que 20 itens.\n",
    "\n",
    "Para os exercícios abaixo, sempre considere que &ldquo;menino&rdquo; significa pessoa do sexo biológico masculino e &ldquo;menina&rdquo; significa pessoa do sexo biológico feminino. Não leve em consideração casos raros onde indivíduos tem cromossomos que não sejam XX ou XY. Assuma que a chance de nascer menino ou menina é igual.\n",
    "\n",
    "Aliás, para todos os fins, considere que nesta disciplina (e em todas as disciplinas que eu venha a lecionar), palavras que tenham sentido dentro do contexto de sexo biológico sempre são utilizadas com seu sentido dentro do contexto de sexo biológico, mesmo que tenham outros significados em outros contextos (a menos que explicitamente escrito o contrário). É uma regra simples que evita que o texto fique difuso.\n",
    "\n",
    "Quando necessário, sempre assuma a situação mais razoável dentro do bom senso. É de bom tom reportar na sua resolução todas as suposições que fizer.\n",
    "\n",
    "1.  Um casal tem dois filhos. Qual a probabilidade dos dois filhos serem meninas?\n",
    "\n",
    "2.  Um casal tem dois filhos. Qual a probabilidade dos dois filhos serem meninas se um dos filhos é uma menina?\n",
    "\n",
    "3.  Ao rolar um dado de 6 faces, qual é a chance de sair o número 5?\n",
    "\n",
    "4.  Ao rolar dois dados de 6 faces, qual é a chance de sair duas faces com o número 1?\n",
    "\n",
    "5.  Ao rolar dois dados de 6 faces, qual é a chance das duas faces serem iguais?\n",
    "\n",
    "6.  Qual a probabilidade de sortear duas cartas vermelhas em um baralho convencional (52 cartas)?\n",
    "\n",
    "7.  Uma rifa tem 100 números e 3 prêmios. Qual a probabilidade de você ganhar pelo menos um prêmio se você comprar 5 números?\n",
    "\n",
    "8.  Qual a probabilidade de sortear 5 cartas do mesmo naipe em um baralho convencional (52 cartas)?\n",
    "\n",
    "9.  Qual a probabilidade de se ganhar na loteria federal comprando apenas um bilhete de 6 números? A loteria federal sorteia 6 números inteiros no intervalo de $[1, 60]$. Um bilhete de 6 números te permite escolher 6 números diferentes dentro do intervalo. Ganhar, neste caso, significa que você acertou os 6 números sorteados.\n",
    "\n",
    "10. Existem 23 pessoas em uma sala. Qual é a chance de que existam duas pessoas que façam aniversário no mesmo dia dentro desta sala? Considerar um ano de 365 dias e mesma chance de nascer em qualquer dia do ano.\n",
    "\n"
   ]
  },
  {
   "cell_type": "markdown",
   "metadata": {},
   "source": [
    "## Imports"
   ]
  },
  {
   "cell_type": "markdown",
   "metadata": {},
   "source": [
    "<p style='text-align:justify'>Para essa atividade, usamos a biblioteca <code>itertools</code> para manipular combinações a partir de iterações e também a função <code>choice</code> da biblioteca <code>random</code>."
   ]
  },
  {
   "cell_type": "code",
   "execution_count": 76,
   "metadata": {},
   "outputs": [],
   "source": [
    "import itertools\n",
    "from random import choice"
   ]
  },
  {
   "cell_type": "markdown",
   "metadata": {},
   "source": [
    "## Abordagens usadas no exercícios"
   ]
  },
  {
   "cell_type": "markdown",
   "metadata": {},
   "source": [
    "<p style='text-align:justify'> Em cada problema, iremos usar tanto a abordagem clássica quanto a frequentista. Na abordagem clássica, a probabilidade de um evento $R$ acontecer é a razão entre a cardinalidade de um evento e a cardinalidade do espaço amostral. Assim, temos:\n",
    "    \\begin{equation}\n",
    "    P(R) = \\frac{n(R)}{n(\\Omega)}\n",
    "    \\end{equation}\n",
    "em que $P(R)$ é a função de probabilidade e $\\Omega$ é o espaço amostral. Contudo, é interessante observar que nessa abordagem, todos os resultados possuem probabilidades iguais de ocorrem. Ou seja, $\\omega_n$ e $\\omega_m$ possuem a mesma chance de acontecer. $[1]$\n",
    "    \n",
    "<p style='text-align:justify'>Já na abordagem frequentista, um experimento é executado um número $h$ de vezes e conta-se quantas $n$ vezes um evento $R$ aconteceu $[1]$. Assim, definimos a probabilidade frequentista como:\n",
    "    $$ P(R) = \\frac{n}{h} $$"
   ]
  },
  {
   "cell_type": "markdown",
   "metadata": {},
   "source": [
    "## Exercício 1"
   ]
  },
  {
   "cell_type": "markdown",
   "metadata": {},
   "source": [
    "<blockquote style=\"text-align: justify; border-left: 4px solid #ccc; padding-left: 15px;\">\n",
    "     Um casal tem dois filhos. Qual a probabilidade dos dois filhos serem meninas?\n",
    "    </blockquote>"
   ]
  },
  {
   "cell_type": "markdown",
   "metadata": {},
   "source": [
    "<p style='text-align:justify'>No exercício $1$, temos um espaço amostral defindo pela possibilidade de combinação entre menino e menina. Assim, usando a função <code>product</code> do itertools, conseguimos definir nosso espaço amostral. Definindo <code>X</code> como menina e <code>Y</code> como menino, temos:"
   ]
  },
  {
   "cell_type": "code",
   "execution_count": 77,
   "metadata": {},
   "outputs": [
    {
     "name": "stdout",
     "output_type": "stream",
     "text": [
      "('X', 'X')\n",
      "('X', 'Y')\n",
      "('Y', 'X')\n",
      "('Y', 'Y')\n",
      "O evento desejado é \"XX\"\n"
     ]
    }
   ],
   "source": [
    "possibilidades_XY = [\"X\", \"Y\"]\n",
    "espaco_XY = itertools.product(possibilidades_XY, repeat=2)\n",
    "\n",
    "\n",
    "for pares in espaco_XY:\n",
    "    print(pares)\n",
    "    \n",
    "print(f'O evento desejado é \"XX\"')"
   ]
  },
  {
   "cell_type": "markdown",
   "metadata": {},
   "source": [
    "<p style='text-align:justify'>Assim, na abordagem clássica, teríamos que a chance dos dois filhos serem meninas seria:\n",
    "$$ P(X) = \\frac{1}{4} = 0.25 = 25\\% $$\n",
    "Usando a abordagem frequentista, em uma simulação de 10 mil vezes, definimos o espaço amostral em <code>espaco_amostral</code> e colocamos um contador <code>contador de eventos</code> para computar quantas vezes o evento desejado ocorreu. Para isso, rodamos um loop for que sorteia um evento usando <code>choice()</code> e checando se o evento sorteado corresponde ao evento desejado. Caso isso ocorra, o contador aumenta em uma unidade e, após o fim da simulação, é calculada a porcentagem frequentista em uma razão do contador pelo número de eventos."
   ]
  },
  {
   "cell_type": "code",
   "execution_count": 78,
   "metadata": {},
   "outputs": [
    {
     "name": "stdout",
     "output_type": "stream",
     "text": [
      "A chance de terem duas meninas é 24.83%\n"
     ]
    }
   ],
   "source": [
    "espaco_amostral = ['XX', 'XY', 'YX', 'YY']\n",
    "evento_desejado = \"XX\"\n",
    "contador_de_eventos = 0\n",
    "numero_eventos = 10000\n",
    "\n",
    "for _ in range(numero_eventos):\n",
    "    evento = choice(espaco_amostral)\n",
    "    if evento == \"XX\":\n",
    "        contador_de_eventos = contador_de_eventos + 1\n",
    "        \n",
    "porcentagem_frequentista = contador_de_eventos/numero_eventos\n",
    "print(f\"A chance de terem duas meninas é {porcentagem_frequentista*100}%\")"
   ]
  },
  {
   "cell_type": "markdown",
   "metadata": {},
   "source": [
    "## Exercício 3"
   ]
  },
  {
   "cell_type": "markdown",
   "metadata": {},
   "source": [
    "<blockquote style=\"text-align: justify; border-left: 4px solid #ccc; padding-left: 15px;\">\n",
    "Ao rolar um dado de 6 faces, qual é a chance de sair o número 5?\n",
    "</blockquote>"
   ]
  },
  {
   "cell_type": "markdown",
   "metadata": {},
   "source": [
    "<p style='text-align:justify'> Nesse caso, o espaço amostral seria apenas uma lista de todas as faces do dado."
   ]
  },
  {
   "cell_type": "code",
   "execution_count": 79,
   "metadata": {},
   "outputs": [
    {
     "name": "stdout",
     "output_type": "stream",
     "text": [
      "['1', '2', '3', '4', '5', '6']\n",
      "O evento desejado é \"5\"\n"
     ]
    }
   ],
   "source": [
    "espaco_amostral = ['1','2','3','4','5','6']\n",
    "print(espaco_amostral)\n",
    "print(f'O evento desejado é \"5\"')"
   ]
  },
  {
   "cell_type": "markdown",
   "metadata": {},
   "source": [
    "<p style='text-align:justify'> Em uma abordagem clássica, a cardinalidade do evento desejado é $1$, por ser apenas uma face do dado. Assim, a probabilidade de rolar um dado de 6 faces e sair o número 5, temos:\n",
    "    $$ P(D) = \\frac{1}{6} \\approx 0.1667 = 16.67\\% $$\n",
    "    Além disso, na abordagem frequentista, usamos exatamente a mesma sintaxe do exercício 1, implementando contador, número de eventos, a função que sorteia um evento, o condicional para verificar o evento sorteado e a razão que computa a porcentagem frequentista."
   ]
  },
  {
   "cell_type": "code",
   "execution_count": 80,
   "metadata": {},
   "outputs": [
    {
     "name": "stdout",
     "output_type": "stream",
     "text": [
      "A chance do dado sair o número 5 é 17.26%\n"
     ]
    }
   ],
   "source": [
    "evento_desejado = \"5\"\n",
    "contador_de_eventos = 0\n",
    "numero_eventos = 10000\n",
    "\n",
    "for _ in range(numero_eventos):\n",
    "    evento = choice(espaco_amostral)\n",
    "    if evento == \"5\":\n",
    "        contador_de_eventos = contador_de_eventos + 1\n",
    "        \n",
    "porcentagem_frequentista = contador_de_eventos/numero_eventos\n",
    "print(f\"A chance do dado sair o número 5 é {porcentagem_frequentista*100}%\")"
   ]
  },
  {
   "cell_type": "markdown",
   "metadata": {},
   "source": [
    "## Exercício 4"
   ]
  },
  {
   "cell_type": "markdown",
   "metadata": {},
   "source": [
    "<blockquote style=\"text-align: justify; border-left: 4px solid #ccc; padding-left: 15px;\">\n",
    "Ao rolar dois dados de 6 faces, qual é a chance de sair duas faces com o número 1?    </blockquote>"
   ]
  },
  {
   "cell_type": "markdown",
   "metadata": {},
   "source": [
    "<p style='text-align:justify'>O espaço amostral desse exercício pode ser definido de forma semelhante ao exercício 1, usando a função <code>product()</code> do <code>itertools</code>. Como temos mais de 20 itens nesse espaço amostral, ocultamos-o e apenas mostramos o comprimento dele usando <code>len()</code>, que corresponde ao número de resultados possíveis"
   ]
  },
  {
   "cell_type": "code",
   "execution_count": 81,
   "metadata": {},
   "outputs": [
    {
     "name": "stdout",
     "output_type": "stream",
     "text": [
      "O espaço amostral possui 36 resultados possíveis\n",
      "O evento desejado é \"(1,1)\"\n"
     ]
    }
   ],
   "source": [
    "possibilidades_D6 = ['1','2','3','4','5','6']\n",
    "espaco_D6 = list(itertools.product(possibilidades_D6,repeat=2))\n",
    "\n",
    "\n",
    "print(f'O espaço amostral possui {len(espaco_D6)} resultados possíveis')\n",
    "print(f'O evento desejado é \"(1,1)\"')"
   ]
  },
  {
   "cell_type": "markdown",
   "metadata": {},
   "source": [
    "<p style='text-align:justify'> Com isso, precisamos que o número 1 saía no primeiro dado <b>e</b> também no segundo dado. Assim, é necessário um produto entre a probabilidade de sair a face 1 e no primeiro dado e a probabilidade de sair a face 1 no segundo dado. Portanto:\n",
    "    $$P(F) = \\frac{1}{6}\\cdot\\frac{1}{6} = \\frac{1}{36} \\approx 0.0278 = 2.78\\%$$\n",
    "    Para fazer a implementação frequentista, decidimos definir o espaço amostral usando uma lista com as faces dos dados em string e operamos uma soma nessas strings para criar o espaço amostral na forma de <code>'11'</code>, em que o primeiro dígito é uma das faces sorteadas e o segundo dígito a outra face sorteada."
   ]
  },
  {
   "cell_type": "code",
   "execution_count": 82,
   "metadata": {},
   "outputs": [
    {
     "name": "stdout",
     "output_type": "stream",
     "text": [
      "O espaço amostral possui 36 resultados possíveis\n",
      "O evento desejado é \"11\"\n"
     ]
    }
   ],
   "source": [
    "lista_dados = ['1','2','3','4','5','6']\n",
    "espaco_amostral = []\n",
    "\n",
    "for i in lista_dados:\n",
    "    for j in lista_dados:\n",
    "        evento = i + j\n",
    "        espaco_amostral.append(evento)\n",
    "        \n",
    "\n",
    "print(f'O espaço amostral possui {len(espaco_amostral)} resultados possíveis')\n",
    "print(f'O evento desejado é \"11\"')"
   ]
  },
  {
   "cell_type": "markdown",
   "metadata": {},
   "source": [
    "<p style='text-align:justify'> Agora, para calcular a probabilidade frequentista, apenas rodamos a mesma sintaxe já usada, alterando o evento desejado para o padrão definido no espaço amostral."
   ]
  },
  {
   "cell_type": "code",
   "execution_count": 83,
   "metadata": {},
   "outputs": [
    {
     "name": "stdout",
     "output_type": "stream",
     "text": [
      "A chance de, ao lançar dois dados, sair duas faces iguais é 2.4899999999999998%\n"
     ]
    }
   ],
   "source": [
    "evento_desejado = \"11\"\n",
    "contador_de_eventos = 0\n",
    "numero_eventos = 10000\n",
    "\n",
    "for _ in range(numero_eventos):\n",
    "    evento = choice(espaco_amostral)\n",
    "    if evento in evento_desejado:\n",
    "        contador_de_eventos = contador_de_eventos + 1\n",
    "        \n",
    "porcentagem_frequentista = contador_de_eventos/numero_eventos\n",
    "print(f\"A chance de, ao lançar dois dados, sair duas faces iguais é {porcentagem_frequentista*100}%\")"
   ]
  },
  {
   "cell_type": "markdown",
   "metadata": {},
   "source": [
    "## Exercício 5"
   ]
  },
  {
   "cell_type": "markdown",
   "metadata": {},
   "source": [
    "<blockquote style=\"text-align: justify; border-left: 4px solid #ccc; padding-left: 15px;\">\n",
    "Ao rolar dois dados de 6 faces, qual é a chance das duas faces serem iguais?    \n",
    "</blockquote>"
   ]
  },
  {
   "cell_type": "markdown",
   "metadata": {},
   "source": [
    "<p style='text-align:justify'> Aqui, o espaço amostral é exatamente o mesmo do exercício 4, então, basta usar a mesma célula de código do exercício anterior. <i>(Relembrando que os eventos estão representados como string em que o primeiro dígito é uma das faces tiradas e o segundo dígito, a outra)</i>."
   ]
  },
  {
   "cell_type": "code",
   "execution_count": 84,
   "metadata": {},
   "outputs": [
    {
     "name": "stdout",
     "output_type": "stream",
     "text": [
      "O espaço amostral possui 36 resultados possíveis\n",
      "Os eventos desejados são \"11, 22, 33, 44, 55 e 66\"\n"
     ]
    }
   ],
   "source": [
    "lista_dados = ['1','2','3','4','5','6']\n",
    "espaco_amostral = []\n",
    "\n",
    "for i in lista:\n",
    "    for j in lista:\n",
    "        evento = i + j\n",
    "        espaco_amostral.append(evento)\n",
    "        \n",
    "print(f'O espaço amostral possui {len(espaco_amostral)} resultados possíveis')\n",
    "print(f'Os eventos desejados são \"11, 22, 33, 44, 55 e 66\"')"
   ]
  },
  {
   "cell_type": "markdown",
   "metadata": {},
   "source": [
    "<p style='text-align:justify'> Na abordagem clássica, esse problema pode ser escrito como:\n",
    "    $$P(I) = \\frac{6}{36} = \\frac{1}{6} \\approx 0.1667 = 16.67\\% $$\n",
    "    já que existem 6 possíveis pares de faces iguais dentro de um espaço amostral de 36 resultados.\n",
    "    \n",
    "\n",
    "<p style='text-align:justify'> Na abordagem frequentista, para computar os eventos desejados, criamos uma lista vazia, iteramo dois loops for e adicionamos todos os itens que são iguais, somando suas strings."
   ]
  },
  {
   "cell_type": "code",
   "execution_count": 90,
   "metadata": {},
   "outputs": [
    {
     "name": "stdout",
     "output_type": "stream",
     "text": [
      "[0, 2, 4, 6, 8, 10, 12, 14, 16, 18, 20, 22, 24, 26, 28, 30, 32, 34, 36, 38, 40, 42, 44, 46, 48, 50, 52, 54, 56, 58, 60, 62, 64, 66, 68, 70, 72, 74, 76, 78, 80, 82, 84, 86, 88, 90, 92, 94, 96, 98, 100, 102, 104, 106, 108, 110, 112, 114, 116, 118, 120, 122, 124, 126, 128, 130, 132, 134, 136, 138, 140, 142, 144, 146, 148, 150, 152, 154, 156, 158, 160, 162, 164, 166, 168, 170, 172, 174, 176, 178, 180, 182, 184, 186, 188, 190, 192, 194, 196, 198]\n"
     ]
    }
   ],
   "source": [
    "evento_desejado = []\n",
    "\n",
    "for i in lista:\n",
    "    for j in lista:\n",
    "        evento = i + j\n",
    "        if i==j:\n",
    "            evento_desejado.append(evento)\n",
    "\n",
    "\n",
    "print(evento_desejado)"
   ]
  },
  {
   "cell_type": "markdown",
   "metadata": {},
   "source": [
    "<p style='text-align:justify'> Por fim, utilizamos a mesma sintaxe que fizemos nos exercícios passados."
   ]
  },
  {
   "cell_type": "code",
   "execution_count": 86,
   "metadata": {},
   "outputs": [
    {
     "name": "stdout",
     "output_type": "stream",
     "text": [
      "A chance de, ao lançar dois dados, sair duas faces iguais é 17.09%\n"
     ]
    }
   ],
   "source": [
    "contador_de_eventos = 0\n",
    "numero_eventos = 10000\n",
    "\n",
    "for _ in range(numero_eventos):\n",
    "    evento = choice(espaco_amostral)\n",
    "    if evento in evento_desejado:\n",
    "        contador_de_eventos = contador_de_eventos + 1\n",
    "        \n",
    "porcentagem_frequentista = contador_de_eventos/numero_eventos\n",
    "print(f\"A chance de, ao lançar dois dados, sair duas faces iguais é {porcentagem_frequentista*100}%\")"
   ]
  },
  {
   "cell_type": "markdown",
   "metadata": {},
   "source": [
    "## Exercício 6"
   ]
  },
  {
   "cell_type": "markdown",
   "metadata": {},
   "source": [
    "<blockquote style=\"text-align: justify; border-left: 4px solid #ccc; padding-left: 15px;\">\n",
    "Qual a probabilidade de sortear duas cartas vermelhas em um baralho convencional (52 cartas)?    </blockquote>"
   ]
  },
  {
   "cell_type": "markdown",
   "metadata": {},
   "source": [
    "<p style='text-align=justify'> O espaço amostral pode ser demonstrado como a permutação de dois do baralho convencional. A permutação é um tipo de sorteio em que a ordem dos elementos <b>é</b> importa. Assim, sorteando de forma permutativa $k$ itens de um conjunto que contém $n$ itens $[1]$, teremos:\n",
    "    $$nPk = \\frac{n!}{(n-k)!}$$\n",
    "Assim, usando a função <code>permutations()</code> do <code>itertools</code>, conseguimos facilmente determinar o espaço amostral (que será mostrado apenas em tamanho pelo grande número de possibilidades), sendo apenas necessário criar uma lista contendo as 26 cartas pretas e outras 26, vermelhas, <code>P</code> e <code>V</code>, respectivamente.\n"
   ]
  },
  {
   "cell_type": "code",
   "execution_count": 115,
   "metadata": {},
   "outputs": [
    {
     "name": "stdout",
     "output_type": "stream",
     "text": [
      "O espaço amostral possui 2652 resultados possíveis\n",
      "O evento desejado é \"VV\"\n"
     ]
    }
   ],
   "source": [
    "possibilidades_VP = [\"V\", \"P\"] * 26\n",
    "espaco_VP = list(itertools.permutations(possibilidades_VP, 2))\n",
    "\n",
    "\n",
    "print(f'O espaço amostral possui {len(espaco_VP)} resultados possíveis')\n",
    "print(f'O evento desejado é \"VV\"')"
   ]
  },
  {
   "cell_type": "markdown",
   "metadata": {},
   "source": [
    "<p style='text-align:justify'> Na abordagem clássica, podemos interpretar a probabilidade desse problema como sendo um sorteio das 52 possíveis cartas seguido de outro sorteio, mas agora, com 51. Portanto, temos que a probabilidade será:\n",
    "    $$P(V) = \\frac{26}{52}\\cdot\\frac{25}{51} \\approx  0.2452 = 24.52\\%$$\n",
    "    Já na abordagem frequentista, fizemos uma implementação do espaço amostral iterando um loop for 26 vezes adicionando as strings que correspondiam às cartas vermelhas e pretas, criando o baralho de cartas. Assim, iteramos esse baralho em um loop for, copiamos e removemos o objeto que está sendo iterado (carta), usando o método <code>remove()</code>. Por fim, um loop aninhado que itera sobre a cópia do baralho, soma a carta que foi iterada anteriormente e a nova que acabou de ser iterada, resultando na permuta que discutimos anteriormente e que é adicionada à lista do espaço amostral usando <code>append()</code>."
   ]
  },
  {
   "cell_type": "code",
   "execution_count": 110,
   "metadata": {},
   "outputs": [
    {
     "name": "stdout",
     "output_type": "stream",
     "text": [
      "O espaço amostral possui 2652 resultados possíveis\n"
     ]
    }
   ],
   "source": [
    "espaco_amostral = []\n",
    "baralho = []\n",
    "for _ in range(26):\n",
    "    baralho.append(\"V\")\n",
    "    baralho.append(\"P\")\n",
    "    \n",
    "\n",
    "for carta in baralho:\n",
    "    baralho_novo = baralho.copy()\n",
    "    baralho_novo.remove(carta)\n",
    "    \n",
    "    for carta2 in baralho_novo:\n",
    "        combinacao = carta + carta2\n",
    "        espaco_amostral.append(combinacao)\n",
    "    \n",
    "print(f'O espaço amostral possui {len(espaco_amostral)} resultados possíveis')"
   ]
  },
  {
   "cell_type": "markdown",
   "metadata": {},
   "source": [
    "Por fim, rodamos a sintaxe que já se tornou padrão para obter a porcentagem frequentista."
   ]
  },
  {
   "cell_type": "code",
   "execution_count": 114,
   "metadata": {},
   "outputs": [
    {
     "name": "stdout",
     "output_type": "stream",
     "text": [
      "A chance de, ao tirar duas cartas, as duas serem vermelhas é 24.52%\n"
     ]
    }
   ],
   "source": [
    "evento_desejado = \"VV\"\n",
    "\n",
    "contador_de_eventos = 0\n",
    "numero_eventos = 10000\n",
    "\n",
    "for _ in range(numero_eventos):\n",
    "    evento = choice(espaco_amostral)\n",
    "    if evento == evento_desejado:\n",
    "        contador_de_eventos = contador_de_eventos + 1\n",
    "        \n",
    "porcentagem_frequentista = contador_de_eventos/numero_eventos\n",
    "print(f\"A chance de, ao tirar duas cartas, as duas serem vermelhas é {porcentagem_frequentista*100}%\")"
   ]
  },
  {
   "cell_type": "markdown",
   "metadata": {},
   "source": [
    "## Exercício 10"
   ]
  },
  {
   "cell_type": "markdown",
   "metadata": {},
   "source": [
    "<blockquote style=\"text-align: justify; border-left: 4px solid #ccc; padding-left: 15px;\">\n",
    "Existem 23 pessoas em uma sala. Qual é a chance de que existam duas pessoas que façam aniversário no mesmo dia dentro desta sala? Considerar um ano de 365 dias e mesma chance de nascer em qualquer dia do ano.   </blockquote>"
   ]
  },
  {
   "cell_type": "markdown",
   "metadata": {},
   "source": [
    "<p style='text-align:justify'>Aqui, sabemos que nosso espaço amostral é igual a $365^{23}$$[2]$dias, já que cada um das 23 pessoas pode fazer aniversário em qualquer dia do ano. Assim, nossos eventos desejados serão todos os pares de dias iguais."
   ]
  },
  {
   "cell_type": "code",
   "execution_count": 124,
   "metadata": {},
   "outputs": [
    {
     "name": "stdout",
     "output_type": "stream",
     "text": [
      "O espaço amostral é 85651679353150321236814267844395152689354622364044189453125 resultados possíveis\n"
     ]
    }
   ],
   "source": [
    "print(f'O espaço amostral é {365**23} resultados possíveis')"
   ]
  },
  {
   "cell_type": "markdown",
   "metadata": {},
   "source": [
    "<p style='text-align:justify'> Assim, na abordagem clássica, poderíamos pensar em definir a probabilidade do evento de dois aniversários iguais não acontecer. Assim, teríamos a expressão $[3]$:\n",
    "    $$p^{c} = \\frac{365!}{365^{23}(365 - 23)!}$$\n",
    "Como $p^c$ é complementar de $p$, que é a probabilidade de obtermos pares iguais de dias, podemos simplesmente obter $p$ como $p = 1 - p^c$.\n",
    "    Já na abordagem frequentista, podemos implementar uma lógica de conjuntos, em que sorteamos uma data para cada uma das pessoas e adicionamos em um conjunto numérico toda nova data. Como conjuntos não exibem elementos repetidos, o comprimento do conjunto que recebe essas datas será menor que o número de pessoas. Assim, basta fazer uma razão para obter a porcentagem frequentista."
   ]
  },
  {
   "cell_type": "code",
   "execution_count": 120,
   "metadata": {},
   "outputs": [
    {
     "name": "stdout",
     "output_type": "stream",
     "text": [
      "A chance de duas pessoas fazerem aniversário no mesmo dia é aproximadamente 50.534%\n"
     ]
    }
   ],
   "source": [
    "dias_aniversario = list(range(1, 366))\n",
    "num_pessoas = 23\n",
    "numero_eventos = 100000\n",
    "contador = 0\n",
    "\n",
    " \n",
    "\n",
    "for _ in range(numero_eventos):\n",
    "    aniversarios = set()  \n",
    "    for pessoa in range(num_pessoas):\n",
    "        aniversario = choice(dias_aniversario)\n",
    "        aniversarios.add(aniversario)\n",
    "    \n",
    "    if len(aniversarios) < num_pessoas:\n",
    "        \n",
    "        contador += 1\n",
    "\n",
    "\n",
    "porcentagem_frequentista = contador / numero_eventos\n",
    "print(f\"A chance de duas pessoas fazerem aniversário no mesmo dia é aproximadamente {porcentagem_frequentista*100}%\")"
   ]
  },
  {
   "cell_type": "markdown",
   "metadata": {},
   "source": [
    "## Resultado e discussão\n",
    "\n"
   ]
  },
  {
   "cell_type": "markdown",
   "metadata": {},
   "source": [
    "Foi possível observar que é posssível usar ambas duas abordagens diferentes em um mesmo problema e ainda sim obter probabilidades muito parecidas. Contudo, ainda é válido salientar que ambas possuem seus problemas, como o número de vezes que é necessário repetir uma abordagem frequentista ou então que em todos os casos os resultados tem mesma probabilidade quando usamos a abordagem clássica."
   ]
  },
  {
   "cell_type": "markdown",
   "metadata": {},
   "source": [
    "## Referências\n",
    "\n"
   ]
  },
  {
   "cell_type": "markdown",
   "metadata": {},
   "source": [
    "$[1]$ Notebook \"4 - Probabilidade\" (disponibilizado para a disciplina).\n",
    "\n",
    "$[2]$https://estat.com.br/2021/04/12/o-paradoxo-do-aniversario/\n",
    "\n",
    "$[3]$https://pt.wikipedia.org/wiki/Paradoxo_do_aniversário"
   ]
  },
  {
   "cell_type": "markdown",
   "metadata": {},
   "source": [
    "## Playground\n",
    "\n"
   ]
  },
  {
   "cell_type": "code",
   "execution_count": null,
   "metadata": {},
   "outputs": [],
   "source": []
  }
 ],
 "metadata": {
  "kernelspec": {
   "display_name": "ilumpy",
   "language": "python",
   "name": "ilumpy"
  },
  "language_info": {
   "codemirror_mode": {
    "name": "ipython",
    "version": 3
   },
   "file_extension": ".py",
   "mimetype": "text/x-python",
   "name": "python",
   "nbconvert_exporter": "python",
   "pygments_lexer": "ipython3",
   "version": "3.10.8"
  },
  "org": null,
  "toc-autonumbering": false,
  "toc-showcode": false,
  "toc-showmarkdowntxt": false
 },
 "nbformat": 4,
 "nbformat_minor": 4
}
