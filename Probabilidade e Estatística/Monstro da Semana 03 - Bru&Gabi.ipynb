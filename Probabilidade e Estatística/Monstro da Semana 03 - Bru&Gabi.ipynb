{
 "cells": [
  {
   "cell_type": "markdown",
   "metadata": {},
   "source": [
    "Meu computador, meu laboratório\n",
    "===============================\n",
    "\n"
   ]
  },
  {
   "cell_type": "markdown",
   "metadata": {},
   "source": [
    "## Objetivo\n",
    "\n"
   ]
  },
  {
   "cell_type": "markdown",
   "metadata": {},
   "source": [
    "Elabore uma pergunta/hipótese e teste ela usando um experimento computacional. Mostre graficamente um histograma dos resultados obtidos nas suas simulações e discuta se conseguiu responder sua pergunta/hipótese. Tente ser criativo e realizar um experimento suficientemente diferente dos realizados em sala.\n",
    "\n",
    "Sugestões de situações/processos para simular:\n",
    "\n",
    "-   Baralho de cartas (ex: qual a chance de sortear 5 cartas do mesmo naipe ou qual a chance sortear 3 cartas em ordem crescente. Pode pensar em aplicações em jogos como Poker ou Truco pois, afinal, a probabilidade nasceu nos jogos de azar);\n",
    "-   Jogos de tabuleiros (pensar em estratégias de otimização assim como as discutidas sobre o jogo Catan em aula);\n",
    "-   Datas de aniversário (ex: qual chance de pelo menos duas pessoas fazerem aniversário no mesmo dia num grupo de $n$ pessoas)\n",
    "\n",
    "Escolha o experimento que preferir, não precisa se limitar às sugestões."
   ]
  },
  {
   "cell_type": "markdown",
   "metadata": {},
   "source": [
    "## Estimando $\\pi$ com a simulação de Monte Carlo"
   ]
  },
  {
   "cell_type": "markdown",
   "metadata": {},
   "source": [
    "<p style='text-align: justify'> A simulação de Monte Carlo é um método estatístico que utilza amostragens aleatórias para tratar de problemas determinísticos. $[1]$\n",
    "    \n",
    "<p style='text-align:justify'> Para o experimento, pensamos em usar a simulação de Monte Carlo para estimar o valor de $\\pi$. Com isso, o experimento é baseado na proporção de áreas entre um círculo inscrito em um quadrado e o próprio quadrado. Além disso, o lado $L$ do quadrado pode ser relacionado com o raio $R$ como $L = 2R$. Assim, a área do quadrado $S$ pode ser escrita como $S = L^2 = 4R^2$. Ademais, a área do círculo $A$ pode ser expressa como $A = \\pi R^2$. Podemos então definir $\\pi$ como:\n",
    "    $$\\pi = 4\\frac{A}{S}$$\n",
    "Dessa forma, utilizamos a simulação de Monte Carlo para computar uma amostragem aleatória de $n$ pontos dentro do quadrado e, com isso, calcular $\\pi$ a partir da Equação acima, porém, tomando $A$ e $S$ como a quantidade de pontos dentro do círculo e a quantidade de pontos dentro do quadrado, respectivamente.\n",
    "\n",
    "<p style='text-align:justify'> A partir disso, formulamos a hipótese de que, conforme o número $n$ de pontos aumenta, a precisão da estimativa também aumentará."
   ]
  },
  {
   "cell_type": "markdown",
   "metadata": {},
   "source": [
    "## Imports e funções"
   ]
  },
  {
   "cell_type": "markdown",
   "metadata": {},
   "source": [
    "<p style='text-align:justify'> Para realizar o experimento, precisamos dos módulos <code>numpy</code>, <code>random</code> e <code>matplotlib</code>. Assim, também definimos funções para calcular a distância euclidiana dos pontos até a origem (centro do círculo) e também uma função que realize a função de Monte Carlo."
   ]
  },
  {
   "cell_type": "code",
   "execution_count": 5,
   "metadata": {},
   "outputs": [],
   "source": [
    "import numpy as np\n",
    "import random\n",
    "from matplotlib import pyplot as plt\n",
    "\n",
    "\n",
    "def distancia_origem(array):\n",
    "    \"\"\"Calcula a distância de pontos até a origem\n",
    "    \n",
    "    A partir de um array bidimensional, a função calcula a distância \n",
    "    euclidiana até a origem.\n",
    "    \n",
    "    Args:\n",
    "        array: array 2D que corresponde às coordenadas x e y.\n",
    "    \n",
    "    Returns:\n",
    "        A distância euclidiana até a origem dos pontos x e y.\n",
    "    \n",
    "    \"\"\"\n",
    "    distancia_ao_quadrado = array[0]** 2 + array[1]**2\n",
    "    distancia = np.sqrt(distancia_ao_quadrado)\n",
    "    return(distancia)\n",
    "\n",
    "\n",
    "def pi_montecarlo(num_pontos):\n",
    "    \"\"\"Realiza a simulação de Monte Carlo e a estimativa de pi\n",
    "    \n",
    "    A função, a partir de um número de pontos, correspondente ao número da \n",
    "    amostragem aleatória, estima o valor de pi.\n",
    "    \n",
    "    Args:\n",
    "        num_pontos: número de pontos que serão amostrados.\n",
    "        \n",
    "    Returns:\n",
    "        O valor de pi da estimativa.\n",
    "    \n",
    "    \"\"\"\n",
    "    pontos = np.random.uniform(low=-1, high=1, size=(num_pontos,2))\n",
    "    contador = 0\n",
    "    for i in pontos:\n",
    "        distancia = distancia_da_origem(i)\n",
    "        if distancia < 1:\n",
    "            contador = contador + 1\n",
    "    pi = 4*(contador/num_pontos)\n",
    "    return(pi)"
   ]
  },
  {
   "cell_type": "markdown",
   "metadata": {},
   "source": [
    "<p style='text-align:justify'> Explicando a função <code>pi_montecarlo</code>, ela gera uma quantidade de pontos em um array 2D definida pelo argumento <code>num_pontos</code>, com valores compreendidos entre -1 e 1. Esse intervalo foi definido imaginando um quadrado inserido no plano cartesiano, com vértices nas coordenadas $(1,1)$, $(1, -1)$, $(-1, 1)$ e $(-1, -1)$. Assim, o array gerado percorre um loop <i>for</i>, no qual as distâncias euclidianas de cada par de coordenadas em relação a origem são calculadas pela função <code>distancia_origem</code>. Por fim, caso a distância computada seja menor que 1 (ou seja, o ponto está dentro do círculo) aumentamos uma unidade no contador definido no começo do escopo da função. Por fim, implementamos a equação que estima $\\pi$ e retornamos-o.\n",
    "\n",
    "<i>Observação: parte da lógica da função da simulação de Monte Carlo foi retirada do vídeo na referência $[2]$.</i>"
   ]
  },
  {
   "cell_type": "markdown",
   "metadata": {},
   "source": [
    "## Execução do experimento"
   ]
  },
  {
   "cell_type": "markdown",
   "metadata": {},
   "source": [
    "<p style='text-align:justify'> Na execução do experimento, definimos para $n$ os valores presentes em <code>array_de_pontos</code> e também calculamos esses valores em escala logarítimica $[3]$, para facilitar a visualização de $n$ no gráfico. Então, criamos um loop que itere sobre a lista contendo os valores de $n$, criamos uma variável para armazenar cada valor estimado de $\\pi$ e também criamos uma lista (antes do loop) que abrigue o erro entre o valor de $\\pi$ estimado e $\\pi$ real. Assim usando as funções do módulo <code>matplotlib</code>, plotamos um gráfico de barras para exibir os resultados do nosso experimento, que seriam mostrados a partir da relação entre a diferença de $\\pi$ estimado e $\\pi$. Contudo, sabemos que, originalmente, deveriamos usar um histograma para analisar esse resultado, mas um histograma computa dados apenas vindo de uma variável no eixo $x$, diferente do gráfico de barras, que possui semelhanças visuais, mas acomoda variáveis no eixos $x$ e $y$."
   ]
  },
  {
   "cell_type": "code",
   "execution_count": 24,
   "metadata": {},
   "outputs": [
    {
     "name": "stdout",
     "output_type": "stream",
     "text": [
      "Para a simulação de Monte Carlo com 10 pontos, obtivemos π como 3.6\n",
      "A diferença entre a estimativa de π e π é: 0.458407346410207\n",
      "\n",
      "Para a simulação de Monte Carlo com 100 pontos, obtivemos π como 3.04\n",
      "A diferença entre a estimativa de π e π é: 0.10159265358979308\n",
      "\n",
      "Para a simulação de Monte Carlo com 1000 pontos, obtivemos π como 3.06\n",
      "A diferença entre a estimativa de π e π é: 0.08159265358979306\n",
      "\n",
      "Para a simulação de Monte Carlo com 10000 pontos, obtivemos π como 3.1316\n",
      "A diferença entre a estimativa de π e π é: 0.009992653589792955\n",
      "\n",
      "Para a simulação de Monte Carlo com 100000 pontos, obtivemos π como 3.14504\n",
      "A diferença entre a estimativa de π e π é: 0.0034473464102067197\n",
      "\n",
      "Para a simulação de Monte Carlo com 1000000 pontos, obtivemos π como 3.144488\n",
      "A diferença entre a estimativa de π e π é: 0.002895346410206834\n",
      "\n",
      "Para a simulação de Monte Carlo com 10000000 pontos, obtivemos π como 3.1424568\n",
      "A diferença entre a estimativa de π e π é: 0.0008641464102070451\n",
      "\n"
     ]
    },
    {
     "data": {
      "image/png": "[encoded data removed]",
      "text/plain": [
       "<Figure size 640x480 with 1 Axes>"
      ]
     },
     "metadata": {},
     "output_type": "display_data"
    }
   ],
   "source": [
    "array_de_pontos = [10,100,1000,10000,100000,1000000,10000000]\n",
    "array_de_pontos_log = []\n",
    "\n",
    "\n",
    "for num_pontos in array_de_pontos:\n",
    "    log = np.log10(num_pontos)\n",
    "    log = int(log)\n",
    "    array_de_pontos_log.append(log)\n",
    "    \n",
    "\n",
    "array_erros = []\n",
    "\n",
    "for num_pontos in array_de_pontos:\n",
    "    pi_estimado = pi_montecarlo(num_pontos)\n",
    "    print(f\"Para a simulação de Monte Carlo com {num_pontos} pontos, obtivemos π como {pi_estimado}\")\n",
    "    diferenca = abs(pi_estimado - np.pi)\n",
    "    array_erros.append(diferenca)\n",
    "    print(f\"A diferença entre a estimativa de π e π é: {diferenca}\")\n",
    "    print()\n",
    "    \n",
    "\n",
    "plt.bar(array_de_pontos_log,array_erros, color='#68246c')\n",
    "plt.xlabel('Número de pontos (10 elevado a n)') \n",
    "plt.ylabel('Diferença entre π estimado e π') \n",
    "plt.title(\"Diferença entre π estimado pela simulação de Monte Carlo com diferentes números de pontos\")\n",
    "\n",
    "plt.show()"
   ]
  },
  {
   "cell_type": "markdown",
   "metadata": {},
   "source": [
    "## Resultado e discussão\n",
    "\n"
   ]
  },
  {
   "cell_type": "markdown",
   "metadata": {},
   "source": [
    "<p style='text-align: justify'> Retomando nossa hipótese, esperavámos que a estimativa de $\\pi$ se tornasse cada vez mais precisa conforme o número de valores $n$ da amostragem aumentasse. Conforme o gráfico acima mostrou, a estimativa de $\\pi$ se torna sim cada vez mais próxima do valor verdadeiro de $\\pi$. Contudo, é preciso observar que esse resultado pode variar conforme o código é rodado. Entretanto, essa inconcistência não é matemática, ou teórica, e sim consequência das amostragens aleatórias que são geradas, já que seria possível obter amostras contendo a proporção certa entre pontos dentro e fora do círculo que resultassem perto do valor de $\\pi$.\n",
    "\n",
    "<p style='text-align: justify'> Apesar disso, seria possível contornar esse problema de flutuação da amostragem fazendo o experimento diversas vezes e tirando uma média da estimativa em cada caso, o que resultaria no comportamento formulado na hipótese."
   ]
  },
  {
   "cell_type": "markdown",
   "metadata": {},
   "source": [
    "## Referências\n",
    "\n"
   ]
  },
  {
   "cell_type": "markdown",
   "metadata": {},
   "source": [
    "Escreva nesta seção as referências consultadas.\n",
    "\n"
   ]
  },
  {
   "cell_type": "markdown",
   "metadata": {},
   "source": [
    "$[1]$ https://pt.wikipedia.org/wiki/Método_de_Monte_Carlo\n",
    "\n",
    "$[2]$ https://www.youtube.com/watch?v=x7M1Q9US-5s##\n",
    "\n",
    "$[3]$ https://stackoverflow.com/questions/25169297/numpy-logarithm-with-base-n"
   ]
  },
  {
   "cell_type": "markdown",
   "metadata": {},
   "source": [
    "## Playground\n",
    "\n"
   ]
  },
  {
   "cell_type": "code",
   "execution_count": null,
   "metadata": {},
   "outputs": [],
   "source": []
  }
 ],
 "metadata": {
  "kernelspec": {
   "display_name": "ilumpy",
   "language": "python",
   "name": "ilumpy"
  },
  "language_info": {
   "codemirror_mode": {
    "name": "ipython",
    "version": 3
   },
   "file_extension": ".py",
   "mimetype": "text/x-python",
   "name": "python",
   "nbconvert_exporter": "python",
   "pygments_lexer": "ipython3",
   "version": "3.10.8"
  },
  "org": null
 },
 "nbformat": 4,
 "nbformat_minor": 4
}
