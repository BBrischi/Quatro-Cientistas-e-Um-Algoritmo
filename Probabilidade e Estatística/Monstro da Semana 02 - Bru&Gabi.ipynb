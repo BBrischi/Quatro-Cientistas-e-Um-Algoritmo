{
 "cells": [
  {
   "cell_type": "markdown",
   "metadata": {},
   "source": [
    "A média das médias\n",
    "==================\n",
    "\n"
   ]
  },
  {
   "cell_type": "markdown",
   "metadata": {},
   "source": [
    "## Objetivo\n",
    "\n"
   ]
  },
  {
   "cell_type": "markdown",
   "metadata": {},
   "source": [
    "Crie ou obtenha um conjunto de dados numéricos que representa uma variável aleatória (certifique-se que seu conjunto de dados tem pelo menos 100 itens). Considere que este conjunto de dados é a sua população. Compute e reporte a média desta população.\n",
    "\n",
    "Realize o processo de amostragem aleatória sem reposição neste conjunto de dados 100 vezes. Cada vez que realizar a amostragem, colete um certo número de dados (algo entre 25% e 75% dos dados, escolha o valor que preferir), compute a média das suas amostras e registre estas médias em uma lista.\n",
    "\n",
    "Compute a média da lista de médias que obteve e compare este valor com a média da população. Discuta seu resultado.\n",
    "\n",
    "\n",
    "\n"
   ]
  },
  {
   "cell_type": "markdown",
   "metadata": {},
   "source": [
    "## Imports e funções"
   ]
  },
  {
   "cell_type": "markdown",
   "metadata": {},
   "source": [
    "<p style='text-align: justify'> Para essa análise, usamos os módulos <code>numpy</code>, <code>statistics</code> e <code>random</code>. Também usamos as funções <code>media</code> para computar a média e <code>amostragem</code> para realizar a amostragem dos dados. Além disso, coletamos amostras aleatórias de 25% e 75% da população nas outras seções. "
   ]
  },
  {
   "cell_type": "code",
   "execution_count": 13,
   "metadata": {},
   "outputs": [],
   "source": [
    "import numpy as np\n",
    "import statistics as st\n",
    "import random\n",
    "\n",
    "\n",
    "def media(array):\n",
    "    \"\"\"Calcula a média a partir de um array.\n",
    "  \n",
    "      A função recebe um array e calcula a média usando a função \"mean\",\n",
    "      retornando-a.\n",
    "\n",
    "      Args:\n",
    "        array: Recebe um array com os valores que serão calculados.\n",
    "\n",
    "      Returns:\n",
    "        Retorna o valor da média\n",
    "      \"\"\"\n",
    "    media = np.mean(array)\n",
    "    return media\n",
    "\n",
    "\n",
    "def desvio_pd(array):\n",
    "    \"\"\"Calcula o desvio padrão a partir de um array.\n",
    "\n",
    "  A função recebe um array e calcula o desvio padrão usando a função \"pstdev\",\n",
    "  retornando-a.\n",
    "\n",
    "  Args:\n",
    "    array: Recebe um array com os valores que serão calculados.\n",
    "\n",
    "  Returns:\n",
    "    Retorna o valor do desvio padrão.\n",
    "  \"\"\"\n",
    "    desvio = np.std(array)\n",
    "    return desvio\n",
    "\n",
    "\n",
    "def amostragem(populacao, tamanho):\n",
    "    \"\"\"Realiza uma amostragem de certo tamanho a partir de uma população.\n",
    "  \n",
    "      A função recebe uma população e a porcentagem do tamanho da amostra \n",
    "      desejada em fração decimal, realizando a amostragem.\n",
    "\n",
    "      Args:\n",
    "        populacao: Recebe um array com os indíviduos de uma população.\n",
    "        tamanho: fração da população desejado para a amostragem.\n",
    "\n",
    "      Returns:\n",
    "        Retorna um array com a amostra.\n",
    "      \"\"\"\n",
    "    populacao = list(populacao)\n",
    "    fração = len(populacao)*tamanho\n",
    "    fração_inteira = int(fração)\n",
    "    amostra = np.random.choice(populacao, fração_inteira, replace=False)\n",
    "    return amostra"
   ]
  },
  {
   "cell_type": "markdown",
   "metadata": {},
   "source": [
    "### Amostra de 25% da população"
   ]
  },
  {
   "cell_type": "code",
   "execution_count": 14,
   "metadata": {},
   "outputs": [
    {
     "name": "stdout",
     "output_type": "stream",
     "text": [
      "Média da população: 52.83\n",
      "________________________________________________________\n",
      "\n",
      "Média das médias das amostras (número de médias = 1): 56.44\n",
      "Diferença em relação à média da população: 3.6099999999999994\n",
      "O desvio padrão da lista de médias é de: 0.0\n",
      "\n",
      "Média das médias das amostras (número de médias = 5): 55.879999999999995\n",
      "Diferença em relação à média da população: 3.049999999999997\n",
      "O desvio padrão da lista de médias é de: 4.319925925290848\n",
      "\n",
      "Média das médias das amostras (número de médias = 10): 55.08399999999999\n",
      "Diferença em relação à média da população: 2.2539999999999907\n",
      "O desvio padrão da lista de médias é de: 4.92524760798886\n",
      "\n",
      "Média das médias das amostras (número de médias = 1000): 52.97668\n",
      "Diferença em relação à média da população: 0.14668000000000347\n",
      "O desvio padrão da lista de médias é de: 5.432318563707398\n",
      "\n",
      "Média das médias das amostras (número de médias = 10000): 52.812596\n",
      "Diferença em relação à média da população: 0.017403999999999087\n",
      "O desvio padrão da lista de médias é de: 5.270598924295416\n",
      "\n"
     ]
    }
   ],
   "source": [
    "tamanho_populacao = 100\n",
    "populacao = np.random.randint(100, size=tamanho_populacao)\n",
    "\n",
    "\n",
    "media_populacao = media(populacao)\n",
    "print(f\"Média da população: {media_populacao}\")\n",
    "print(\"________________________________________________________\\n\")\n",
    "\n",
    "\n",
    "num_medias = [1, 5, 10, 1000, 10000]\n",
    "for numero in num_medias:\n",
    "    lista_de_medias = []\n",
    "\n",
    "    for i in range(numero):\n",
    "        amostra = amostragem(populacao, 0.25)\n",
    "        media_amostra = media(amostra)\n",
    "        lista_de_medias.append(media_amostra)\n",
    "\n",
    "\n",
    "    media_das_medias = media(lista_de_medias)\n",
    "    desvio_padrao_das_medias = desvio_pd(lista_de_medias)\n",
    "    diferenca = abs(media_populacao - media_das_medias)\n",
    "    print(f\"Média das médias das amostras (número de médias = {numero}): {media_das_medias}\")\n",
    "    print(f\"Diferença em relação à média da população: {diferenca}\")\n",
    "    print(f\"O desvio padrão da lista de médias é de: {desvio_padrao_das_medias}\\n\") "
   ]
  },
  {
   "cell_type": "markdown",
   "metadata": {},
   "source": [
    "### Amostra de 75% da população"
   ]
  },
  {
   "cell_type": "code",
   "execution_count": 15,
   "metadata": {},
   "outputs": [
    {
     "name": "stdout",
     "output_type": "stream",
     "text": [
      "Média da população: 52.83\n",
      "________________________________________________________\n",
      "\n",
      "Média das médias das amostras (número de médias = 1): 50.946666666666665\n",
      "Diferença em relação à média da população: 1.8833333333333329\n",
      "O desvio padrão da lista de médias é de: 0.0\n",
      "\n",
      "Média das médias das amostras (número de médias = 5): 53.53066666666666\n",
      "Diferença em relação à média da população: 0.7006666666666632\n",
      "O desvio padrão da lista de médias é de: 2.4639682537637437\n",
      "\n",
      "Média das médias das amostras (número de médias = 10): 53.459999999999994\n",
      "Diferença em relação à média da população: 0.6299999999999955\n",
      "O desvio padrão da lista de médias é de: 1.6877835564234343\n",
      "\n",
      "Média das médias das amostras (número de médias = 1000): 52.85738666666666\n",
      "Diferença em relação à média da população: 0.027386666666664894\n",
      "O desvio padrão da lista de médias é de: 1.8148618843806759\n",
      "\n",
      "Média das médias das amostras (número de médias = 10000): 52.830105333333336\n",
      "Diferença em relação à média da população: 0.00010533333333739847\n",
      "O desvio padrão da lista de médias é de: 1.754414733058166\n",
      "\n"
     ]
    }
   ],
   "source": [
    "print(f\"Média da população: {media_populacao}\")\n",
    "print(\"________________________________________________________\\n\")\n",
    "\n",
    "\n",
    "num_medias = [1, 5, 10, 1000, 10000]\n",
    "for numero in num_medias:\n",
    "    lista_de_medias = []\n",
    "\n",
    "    for i in range(numero):\n",
    "        amostra = amostragem(populacao, 0.75)\n",
    "        media_amostra = media(amostra)\n",
    "        lista_de_medias.append(media_amostra)\n",
    "\n",
    "\n",
    "    media_das_medias = media(lista_de_medias)\n",
    "    desvio_padrao_das_medias = desvio_pd(lista_de_medias)\n",
    "    diferenca = abs(media_populacao - media_das_medias)\n",
    "    print(f\"Média das médias das amostras (número de médias = {numero}): {media_das_medias}\")\n",
    "    print(f\"Diferença em relação à média da população: {diferenca}\")\n",
    "    print(f\"O desvio padrão da lista de médias é de: {desvio_padrao_das_medias}\\n\")"
   ]
  },
  {
   "cell_type": "markdown",
   "metadata": {},
   "source": [
    "## Resultado e discussão\n",
    "\n"
   ]
  },
  {
   "cell_type": "markdown",
   "metadata": {},
   "source": [
    "<p style='text-align: justify'>Foi possível perceber que conforme se aumenta o número de médias amostrais (ou seja, o tamanho da lista de médias), a média das médias se aproxima cada vez mais com a média da população total. Acredito que isso ocorre porque o processo de amostragem aleatória tende a atenuar o impacto de outliers presentes em uma única amosta.  Portanto, quanto mais amostras você coletar e calcular as médias, mais se reduz o efeito de anomalias, resultando em uma média amostral mais próxima da média da população. Isso é estabelecido pelo Teorema do Limite Central, que diz que independentemente da distribuição da população original, a distribuição das médias amostrais se aproxima de uma distribuição normal à medida que o tamanho da amostra aumenta.\n",
    "\n",
    "<p style='text-align: justify'>Além disso, uma comparação interessante pode ser feita entre as amostras que representam 25% e 75% da população. Observou-se que o desvio padrão da lista de médias diminui à medida que o tamanho das amostras aumenta. Isso pode ser visto ao comparar as amostras de 25% e 75% da população, que é possível perceber que o desvio padrão das amostras de 75% é significativamente menor. "
   ]
  },
  {
   "cell_type": "markdown",
   "metadata": {},
   "source": [
    "## Referências\n",
    "\n"
   ]
  },
  {
   "cell_type": "markdown",
   "metadata": {},
   "source": [
    "Escreva nesta seção as referências consultadas.\n",
    "\n"
   ]
  },
  {
   "cell_type": "markdown",
   "metadata": {},
   "source": [
    "## Playground\n",
    "\n"
   ]
  },
  {
   "cell_type": "code",
   "execution_count": null,
   "metadata": {},
   "outputs": [],
   "source": []
  }
 ],
 "metadata": {
  "kernelspec": {
   "display_name": "ilumpy",
   "language": "python",
   "name": "ilumpy"
  },
  "language_info": {
   "codemirror_mode": {
    "name": "ipython",
    "version": 3
   },
   "file_extension": ".py",
   "mimetype": "text/x-python",
   "name": "python",
   "nbconvert_exporter": "python",
   "pygments_lexer": "ipython3",
   "version": "3.10.8"
  },
  "org": null
 },
 "nbformat": 4,
 "nbformat_minor": 4
}
