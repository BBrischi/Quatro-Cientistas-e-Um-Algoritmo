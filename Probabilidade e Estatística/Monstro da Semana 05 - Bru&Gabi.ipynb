{
  "cells": [
    {
      "cell_type": "markdown",
      "source": [
        "To Bayes or not to Bayes\n",
        "========================\n",
        "\n"
      ],
      "metadata": {}
    },
    {
      "cell_type": "markdown",
      "source": [
        "## Objetivo\n",
        "\n"
      ],
      "metadata": {}
    },
    {
      "cell_type": "markdown",
      "source": [
        "Na sua área de estudo existem duas explicações reportadas na literatura para um certo fenômeno natural. Considere que estas explicações são mutualmente exclusivas.\n",
        "\n",
        "Evidências a favor das duas explicações existem e a comunidade científica ainda debate sobre qual destas explicações é a mais adequada para o fenômeno natural sendo estudado. Vamos chamar de $E_1$ o evento &ldquo;a explicação 1 está correta&rdquo; e de $E_2$ o evento &ldquo;a explicação 2 está correta&rdquo;.\n",
        "\n",
        "Você acabou de realizar um experimento e obteve uma nova evidência a favor da explicação 1. O experimento que você executou entrega o resultado correto $n$ vezes a cada 100 experimentos. Vamos chamar de $X$ o evento &ldquo;experimento realizado resultou em evidência a favor da explicação 1&rdquo;.\n",
        "\n",
        "Para cada uma das situações abaixo, compute a probabilidade a posteriori da explicação $E_1$ após a realização do experimento. Use sempre as notações discutidas no notebook da disciplina.\n",
        "\n",
        "1.  Probabilidade inicial de $E_1$ de 20% e $n=99$.\n",
        "\n",
        "2.  Probabilidade inicial de $E_1$ de 20% e $n=50$.\n",
        "\n",
        "3.  Probabilidade inicial de $E_1$ de 99% e $n=5$.\n",
        "\n",
        "Após isso, mostre como a probabilidade a posteriori se altera com a realização de mais experimentos sucessivos para o caso 2. Mostre graficamente seu resultado.\n",
        "\n",
        "Discuta os resultados obtidos.\n",
        "\n"
      ],
      "metadata": {}
    },
    {
      "cell_type": "markdown",
      "source": [
        "## Nosso experimento"
      ],
      "metadata": {}
    },
    {
      "cell_type": "markdown",
      "source": [
        "Queremos identificar a origem da inteligência de físicos teóricos. Há apenas duas hipóteses plausíveis e que são mutualmente exclusivas. São elas: o próprio ato de estudar a natureza; ou o fumo de uma erva milenar: o tabaco. \n",
        "\n",
        "Chamaremos o evento da explicação \"o próprio ato de estudar a natureza\"  estar correta de $E_1$; e o evento da explicação \"o fumo de uma erva milenar: o tabaco\" estar correta de $E_2$."
      ],
      "metadata": {}
    },
    {
      "cell_type": "markdown",
      "source": [
        "Sabemos que o Teorema de Bayes é dado por $[1]$:\n",
        "\n",
        "$$\n",
        "P(A | B) =\n",
        "\\frac{P(A) P(B | A)}{P(B)} =\n",
        "\\frac{P(A) P(B | A)}{P(A)P(B|A) + P(A^c)P(B|A^c)}\n",
        "$$\n",
        "\n",
        "No nosso estudo, estaremos calculando a propabilidade de $E_1$ depois de um experimento que nos dá uma nova evidência para a primeira explicação. Assim, estaremos calculando a probabilidade de $E_1$ **dado que X aconteceu.** \n",
        "\n",
        "Reescrevendo, temos:\n",
        "$$\n",
        "P(E_1 | X) =\n",
        "\\frac{P(E_1) P(X | E_1)}{P(X)} =\n",
        "\\frac{P(E_1) P(X | E_1)}{P(E_1)P(X|E_1) + P(E_1^c)P(X|E_1^c)}\n",
        "$$\n",
        "\n",
        "Além disso, sabemos que o complementar da probabilidade de $E_1$ ($P(E_1)$) será a probabilidade de $E_2$ ($P(E_2)$). \n",
        "\n",
        "$$  P(E_1^c) = P(E_2) $$\n",
        "\n",
        "Podemos substituir isso:\n",
        "\n",
        "$$\n",
        "P(E_1 | X) =\n",
        "\\frac{P(E_1) P(X | E_1)}{P(X)} =\n",
        "\\frac{P(E_1) P(X | E_1)}{P(E_1)P(X|E_1) + P(E_2)P(X|E_2)}\n",
        "$$\n",
        "\n",
        "Agora, usaremos dessa fórmula para calcular cada caso."
      ],
      "metadata": {}
    },
    {
      "cell_type": "markdown",
      "source": [
        "### Declarando os elementos"
      ],
      "metadata": {}
    },
    {
      "cell_type": "markdown",
      "source": [
        "$P(E_1)$ - probabilidade inicial da explicação 1 estar correta\n",
        "\n",
        "$P(X | E_1)$ - probabilidade do experimento realizado resultar em evidência a favor da explicação, dado que a explicação 1 está correta\n",
        "\n",
        "$P(X)$ -  probabilidade do experimento realizado resultar em evidência a favor da explicação $E_1$\n",
        "\n",
        "$ P(E_1^c) = P(E_2)$ - probabilidade da explicação 2 estar correta (complementar da probabilidade da explicação 1 estar correta)\n",
        "\n",
        "$P(X|E_1^c) = P(X|E_2)$ - probabilidade do experimento realizado resultar em evidência a favor da explicação, dado que a explicação 2 está correta "
      ],
      "metadata": {}
    },
    {
      "cell_type": "markdown",
      "source": [
        "## 1.  Probabilidade inicial de $E_1$ de 20% e $n=99$."
      ],
      "metadata": {}
    },
    {
      "cell_type": "markdown",
      "source": [
        "$P(E_1) = 20\\% = 0.2$\n",
        "\n",
        "$P(X | E_1) = 99\\% = 0.99$\n",
        "\n",
        "$P(X)$ -  destrincharemos como sugerido na equação equivalente a de Bayes\n",
        "\n",
        "$ P(E_1^c) = P(E_2) = 1 - 0.2 = 0.8$\n",
        "\n",
        "$P(X|E_1^c) = P(X|E_2) = 1 - 0.99 = 0.01$"
      ],
      "metadata": {}
    },
    {
      "cell_type": "code",
      "source": [
        "p_inicial = 0.2\n",
        "px_e1 = 0.99\n",
        "p2 = 1 - p_inicial\n",
        "px_e2 = 1 - px_e1\n",
        "\n",
        "px = (px_e1 * p_inicial) + (px_e2 * p2)\n",
        "numerador = p_inicial * px_e1\n",
        "\n",
        "resultado1 = numerador / px\n",
        "\n",
        "print(f\"A probabilidade a posteriori é {resultado1}\")\n"
      ],
      "outputs": [
        {
          "output_type": "stream",
          "name": "stdout",
          "text": "A probabilidade a posteriori é 0.9611650485436893\n"
        }
      ],
      "execution_count": 73,
      "metadata": {}
    },
    {
      "cell_type": "markdown",
      "source": [
        "## 2.  Probabilidade inicial de $E_1$ de 20% e $n=50$."
      ],
      "metadata": {}
    },
    {
      "cell_type": "markdown",
      "source": [
        "$P(E_1) = 20\\% = 0.2$\n",
        "\n",
        "$P(X | E_1) = 50\\% = 0.5$\n",
        "\n",
        "$P(X)$ -  destrincharemos como sugerido na equação equivalente a de Bayes\n",
        "\n",
        "$ P(E_1^c) = P(E_2) = 1 - 0.2 = 0.8$\n",
        "\n",
        "$P(X|E_1^c) = P(X|E_2) = 1 - 0.50 = 0.50$"
      ],
      "metadata": {}
    },
    {
      "cell_type": "code",
      "source": [
        "p_inicial = 0.2\n",
        "px_e1 = 0.50\n",
        "p2 = 1 - p_inicial\n",
        "px_e2 = 1 - px_e1\n",
        "\n",
        "px = (px_e1 * p_inicial) + (px_e2 * p2)\n",
        "numerador = p_inicial * px_e1\n",
        "\n",
        "resultado2 = numerador / px\n",
        "\n",
        "print(f\"A probabilidade a posteriori é {resultado2}\")\n"
      ],
      "outputs": [
        {
          "output_type": "stream",
          "name": "stdout",
          "text": "A probabilidade a posteriori é 0.2\n"
        }
      ],
      "execution_count": 74,
      "metadata": {}
    },
    {
      "cell_type": "markdown",
      "source": [
        "## 3.  Probabilidade inicial de $E_1$ de 99% e $n=5$."
      ],
      "metadata": {}
    },
    {
      "cell_type": "code",
      "source": [
        "p_inicial = 0.99\n",
        "px_e1 = 0.05\n",
        "p2 = 1 - p_inicial\n",
        "px_e2 = 1 - px_e1\n",
        "\n",
        "px = (px_e1*p_inicial) + (px_e2*p2)\n",
        "numerador = p_inicial*px_e1\n",
        "\n",
        "resultado3 = numerador/px\n",
        "\n",
        "print(f\"A probabilidade a posteriori é {resultado3}\")\n"
      ],
      "outputs": [
        {
          "output_type": "stream",
          "name": "stdout",
          "text": "A probabilidade a posteriori é 0.8389830508474575\n"
        }
      ],
      "execution_count": 75,
      "metadata": {}
    },
    {
      "cell_type": "markdown",
      "source": [
        "## Experimentos sucessivos para o caso 2"
      ],
      "metadata": {}
    },
    {
      "cell_type": "code",
      "source": [
        "p_inicial = 0.2\n",
        "px_e1 = 0.50\n",
        "p2 = 1 - p_inicial\n",
        "px_e2 = 1 - px_e1\n",
        "\n",
        "numero_experimentos = 11\n",
        "resultados = []\n",
        "\n",
        "for i in range(1,numero_experimentos):\n",
        "    px = (px_e1 * p_inicial) + (px_e2 * p2)\n",
        "    numerador = p_inicial * px_e1\n",
        "    resultado2 = numerador / px\n",
        "    print(f\"A probabilidade depois de {i} experimentos é {resultado2}\")\n",
        "    resultados.append(resultado2)\n",
        "\n",
        "    p_inicial = resultado2\n",
        "\n",
        "    \n"
      ],
      "outputs": [
        {
          "output_type": "stream",
          "name": "stdout",
          "text": "A probabilidade depois de 1 experimentos é 0.2\nA probabilidade depois de 2 experimentos é 0.2\nA probabilidade depois de 3 experimentos é 0.2\nA probabilidade depois de 4 experimentos é 0.2\nA probabilidade depois de 5 experimentos é 0.2\nA probabilidade depois de 6 experimentos é 0.2\nA probabilidade depois de 7 experimentos é 0.2\nA probabilidade depois de 8 experimentos é 0.2\nA probabilidade depois de 9 experimentos é 0.2\nA probabilidade depois de 10 experimentos é 0.2\n"
        }
      ],
      "execution_count": 76,
      "metadata": {}
    },
    {
      "cell_type": "markdown",
      "source": [
        "### Plotando o resultado"
      ],
      "metadata": {}
    },
    {
      "cell_type": "code",
      "source": [
        "from matplotlib import pyplot as plt\n",
        "\n",
        "x_vals = [*range(10)]\n",
        "y_vals = resultados\n",
        "\n",
        "plt.figure(figsize=(10, 6))\n",
        "plt.plot(x_vals, y_vals, marker='o', linestyle='--', color = 'purple')\n",
        "plt.xlabel('Número de Experimentos')\n",
        "plt.ylabel('Probabilidade a Posteriori de $E_1$')\n",
        "plt.title('Evolução da Probabilidade a Posteriori de $E_1$ (Situação 2)')\n",
        "plt.grid(True)\n",
        "plt.show()"
      ],
      "outputs": [
        {
          "output_type": "display_data",
          "data": {
            "image/png": "[encoded data removed]",
            "text/plain": "<Figure size 1000x600 with 1 Axes>"
          },
          "metadata": {}
        }
      ],
      "execution_count": 78,
      "metadata": {}
    },
    {
      "cell_type": "markdown",
      "source": [
        "## Resultado e discussão"
      ],
      "metadata": {}
    },
    {
      "cell_type": "markdown",
      "source": [
        "### Discussão sobre os casos"
      ],
      "metadata": {}
    },
    {
      "cell_type": "markdown",
      "source": [
        "Recapitulando os resultados:\n",
        "\n",
        "* Caso 1: quando realizamos um experimento que corrobora com $E_1$, considerando a probabilidade inicial de $E_1$ de 20% e $n=99$ (quantos experimentos entregam o resultado correto a cada 100 experimentos), obtivemos uma nova probabilidade para $E_1$, dada como $P(E_1) \\approx 0.96$\n",
        "* Caso 2: quando realizamos um experimento que corrobora com $E_1$, considerando a probabilidade inicial de $E_1$ de 20% e $n=50$, obtivemos uma nova probabilidade para $E_1$, dada como $P(E_1) \\approx 0.2$\n",
        "* Caso 3: quando realizamos um experimento que corrobora com $E_1$, considerando a probabilidade inicial de $E_1$ de 99% e $n=5$, obtivemos uma nova probabilidade para $E_1$, dada como $P(E_1) \\approx 0.84$"
      ],
      "metadata": {}
    },
    {
      "cell_type": "markdown",
      "source": [
        "### Discussão dos experimentos sucessivos para o caso 2\n",
        "\n",
        "Quando o experimento retorna o resultado correto $50$ vezes a cada 100 experimentos, temos que durante os experimentos sucessivos, a probabilidade posteriori será igual a probabilidade inicial. Assim, ela se torna constante, como visualizado no gráfico. Podemos demonstrar isso matematicamente.\n",
        "\n",
        "Sabemos que $P(X | E_1) = 0.5$ e que $P(X|E_2) = 1 - 0.5 = 0.5$\n",
        "\n",
        "$$\\frac{P(E_1) P(X | E_1)}{P(E_1)P(X|E_1) + P(E_2)P(X|E_2)} =  \\frac{P(E_1) \\cdot 0.5}{P(E_1) \\cdot 0.5 + P(E_2) \\cdot 0.5 }$$\n",
        "\n",
        "Vemos que todos os membros da fração estão sendo multiplicados por 0.5. Assim, podemos \"cortar\" o 0.5, resultando em:\n",
        "$$ \\frac{P(E_1)} {P(E_1) + P(E_2)}$$\n",
        "\n",
        "Sabemos que $P(E_1)$ e $P(E_2)$ são complementares, assim somam 1\n",
        "$$P(E_1) + P(E_2) = 1$$\n",
        "\n",
        "Substituindo:\n",
        "$$ \\frac{P(E_1)} {1}$$\n",
        "\n",
        "Logo, temos que $P(E_1 | X) = P(E_1)$"
      ],
      "metadata": {}
    },
    {
      "cell_type": "markdown",
      "source": [
        "## Referências\n",
        "\n"
      ],
      "metadata": {}
    },
    {
      "cell_type": "markdown",
      "source": [
        "$[1]$ Notebook 5 - Probabilidade condicional.\n",
        "\n"
      ],
      "metadata": {}
    },
    {
      "cell_type": "markdown",
      "source": [
        "## Playground\n",
        "\n"
      ],
      "metadata": {}
    },
    {
      "cell_type": "markdown",
      "source": [
        "Use este espaço para fazer o que quiser. Não será considerado na correção.\n",
        "\n"
      ],
      "metadata": {}
    },
    {
      "cell_type": "code",
      "source": [],
      "outputs": [],
      "execution_count": null,
      "metadata": {}
    }
  ],
  "metadata": {
    "kernelspec": {
      "name": "python",
      "language": "python",
      "display_name": "Pyolite (preview)"
    },
    "language_info": {
      "codemirror_mode": {
        "name": "python",
        "version": 3
      },
      "file_extension": ".py",
      "mimetype": "text/x-python",
      "name": "python",
      "nbconvert_exporter": "python",
      "pygments_lexer": "ipython3",
      "version": "3.8"
    },
    "org": null,
    "nteract": {
      "version": "nteract-front-end@1.0.0"
    },
    "kernel_info": {
      "name": "python"
    }
  },
  "nbformat": 4,
  "nbformat_minor": 4
}