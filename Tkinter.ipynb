{
 "cells": [
  {
   "cell_type": "markdown",
   "id": "4930a47d-c8ac-4e8d-a08c-358e43e31ee2",
   "metadata": {},
   "source": [
    "Na linha     \n",
    "previsao = modelo_rf.predict(df_usuario) # MUDAR O MODELO AQUI\n",
    "\n",
    "tem que colocar trocar \"modelo_rf\" pelo modelo "
   "\n"
  "Como foi visto, o modelo "tal" teve um melhor desempenho. Sendo assim, usaremos ele para criar o programa"
   ]
  },
  {
   "cell_type": "markdown",
   "id": "4eb001b5-3b9e-40f2-a64e-bcb2b9b5677e",
   "metadata": {
    "jp-MarkdownHeadingCollapsed": true,
    "tags": []
   },
   "source": [
    "## Criando o programa com tkinter"
   ]
  },
  {
   "cell_type": "markdown",
   "id": "6c026ab2-5628-4d11-9381-63ff6fec364b",
   "metadata": {},
   "source": [
    "### Criando a função que recolhe os dados do paciente"
   ]
  },
  {
   "cell_type": "code",
   "execution_count": 1,
   "id": "18ebc292-48ec-48e5-920c-aa90ae361f99",
   "metadata": {},
   "outputs": [],
   "source": [
    "import tkinter as tk\n",
    "from tkinter import ttk\n",
    "from sklearn.impute import SimpleImputer\n",
    "\n",
    "# Criar instância do SimpleImputer\n",
    "imputer = SimpleImputer(strategy='mean')\n",
    "\n",
    "# Função para fazer previsões\n",
    "def fazer_previsao():\n",
    "    # Obter os dados da interface\n",
    "    dados = {\n",
    "        \"Gênero\": combo_genero.get(),\n",
    "        \"Idade\": float(entry_idade.get()),\n",
    "        \"Hipertensão\": int(combo_hipertensao.get()),\n",
    "        \"Doenças Cardíacas\": int(combo_doencas_cardiacas.get()),\n",
    "        \"Estado Civil\": combo_estado_civil.get(),\n",
    "        \"Nível Médio de Glicose\": float(entry_glicose.get()),\n",
    "        \"Tipo de Trabalho\": combo_tipo_trabalho.get(),\n",
    "        \"Índice de Massa Corporal (BMI)\": float(entry_bmi.get()),\n",
    "        \"Tipo de Residência\": combo_residencia.get(),\n",
    "        \"Status de Fumante\": combo_fumante.get(),\n",
    "    }\n",
    "\n",
    "  # Criar um DataFrame com os dados do usuário\n",
    "    df_usuario = pd.DataFrame([dados])\n",
    "\n",
    "    # Mapear manualmente as categorias para o Status de Fumante\n",
    "    status_fumante_mapping = {\"formerly smoked\": 2, \"never smoked\": 1, \"smokes\": 3, \"Unknown\": 0}\n",
    "    df_usuario[\"Status de Fumante\"] = df_usuario[\"Status de Fumante\"].map(status_fumante_mapping)\n",
    "\n",
    "    # Aplicar o mesmo pré-processamento feito nos dados de treino\n",
    "    df_usuario[\"Tipo de Trabalho\"] = encoder2.transform(df_usuario[[\"Tipo de Trabalho\"]])\n",
    "    df_usuario[\"Tipo de Residência\"] = encoder3.transform(df_usuario[[\"Tipo de Residência\"]])\n",
    "    df_usuario[\"Gênero\"] = encoder4.transform(df_usuario[[\"Gênero\"]])\n",
    "    df_usuario[\"Estado Civil\"] = encoder5.transform(df_usuario[[\"Estado Civil\"]])\n",
    "\n",
    "    # Preencher valores ausentes, se houver\n",
    "    df_usuario = pd.DataFrame(imputer.fit_transform(df_usuario), columns=df_usuario.columns)\n",
    "\n",
    "    # Fazer a previsão usando o modelo treinado\n",
    "    previsao = modelo_rf.predict(df_usuario) # MUDAR O MODELO AQUI \n",
    "    \n",
    "    if previsao[0] == 1:\n",
    "        previsao_final = \"AHHH modelo retorna como AVC \"\n",
    "    else:\n",
    "        previsao_final = \"YAYYY Nosso modelo retorna como NÃO AVC\"\n",
    "\n",
    "    # Exibir o resultado na interface\n",
    "    resultado_label.config(text=f\"Resultado: {previsao_final}\")"
   ]
  },
  {
   "cell_type": "markdown",
   "id": "3928ad3c-b983-4e3c-9dcd-752859d0bc8f",
   "metadata": {},
   "source": [
    "### Interface com tkinter"
   ]
  },
  {
   "cell_type": "code",
   "execution_count": 2,
   "id": "7a920615-912b-4f45-a6aa-a80606c12d4b",
   "metadata": {},
   "outputs": [],
   "source": [
    "# Criar a janela principal\n",
    "janela = tk.Tk()\n",
    "janela.title(\"Previsão de AVC\")\n",
    "\n",
    "# Criar widgets\n",
    "genero_label = ttk.Label(janela, text=\"Gênero:\")\n",
    "combo_genero = ttk.Combobox(janela, values=[\"Male\", \"Female\", \"Other\"])\n",
    "combo_genero.set(\"Male\")\n",
    "\n",
    "idade_label = ttk.Label(janela, text=\"Idade:\")\n",
    "entry_idade = ttk.Entry(janela)\n",
    "\n",
    "hipertensao_label = ttk.Label(janela, text=\"Hipertensão:\")\n",
    "combo_hipertensao = ttk.Combobox(janela, values=[0, 1])\n",
    "combo_hipertensao.set(0)\n",
    "\n",
    "doencas_cardiacas_label = ttk.Label(janela, text=\"Doenças Cardíacas:\")\n",
    "combo_doencas_cardiacas = ttk.Combobox(janela, values=[0, 1])\n",
    "combo_doencas_cardiacas.set(0)\n",
    "\n",
    "estado_civil_label = ttk.Label(janela, text=\"Já foi casado:\")\n",
    "combo_estado_civil = ttk.Combobox(janela, values=[\"No\", \"Yes\"])\n",
    "combo_estado_civil.set(\"No\")\n",
    "\n",
    "glicose_label = ttk.Label(janela, text=\"Nível Médio de Glicose:\")\n",
    "entry_glicose = ttk.Entry(janela)\n",
    "\n",
    "tipo_trabalho_label = ttk.Label(janela, text=\"Tipo de Trabalho:\")\n",
    "combo_tipo_trabalho = ttk.Combobox(janela, values=[\"Private\", \"Self-employed\", \"Govt_job\", \"children\", \"Never_worked\"])\n",
    "combo_tipo_trabalho.set(\"Private\")\n",
    "\n",
    "bmi_label = ttk.Label(janela, text=\"Índice de Massa Corporal (BMI):\")\n",
    "entry_bmi = ttk.Entry(janela)\n",
    "\n",
    "residencia_label = ttk.Label(janela, text=\"Tipo de Residência:\")\n",
    "combo_residencia = ttk.Combobox(janela, values=[\"Urban\", \"Rural\"])\n",
    "combo_residencia.set(\"Urban\")\n",
    "\n",
    "fumante_label = ttk.Label(janela, text=\"Status de Fumante:\")\n",
    "combo_fumante = ttk.Combobox(janela, values=[\"formerly smoked\", \"never smoked\", \"smokes\", \"Unknown\"])\n",
    "combo_fumante.set(\"formerly smoked\")\n",
    "\n",
    "botao_prever = ttk.Button(janela, text=\"Prever\", command=fazer_previsao)\n",
    "resultado_label = ttk.Label(janela, text=\"Resultado: \")\n",
    "\n",
    "# Posicionar widgets na janela\n",
    "genero_label.grid(row=0, column=0, padx=5, pady=5, sticky=\"E\")\n",
    "combo_genero.grid(row=0, column=1, padx=5, pady=5, sticky=\"W\")\n",
    "\n",
    "idade_label.grid(row=1, column=0, padx=5, pady=5, sticky=\"E\")\n",
    "entry_idade.grid(row=1, column=1, padx=5, pady=5, sticky=\"W\")\n",
    "\n",
    "hipertensao_label.grid(row=2, column=0, padx=5, pady=5, sticky=\"E\")\n",
    "combo_hipertensao.grid(row=2, column=1, padx=5, pady=5, sticky=\"W\")\n",
    "\n",
    "doencas_cardiacas_label.grid(row=3, column=0, padx=5, pady=5, sticky=\"E\")\n",
    "combo_doencas_cardiacas.grid(row=3, column=1, padx=5, pady=5, sticky=\"W\")\n",
    "\n",
    "estado_civil_label.grid(row=4, column=0, padx=5, pady=5, sticky=\"E\")\n",
    "combo_estado_civil.grid(row=4, column=1, padx=5, pady=5, sticky=\"W\")\n",
    "\n",
    "glicose_label.grid(row=5, column=0, padx=5, pady=5, sticky=\"E\")\n",
    "entry_glicose.grid(row=5, column=1, padx=5, pady=5, sticky=\"W\")\n",
    "\n",
    "tipo_trabalho_label.grid(row=6, column=0, padx=5, pady=5, sticky=\"E\")\n",
    "combo_tipo_trabalho.grid(row=6, column=1, padx=5, pady=5, sticky=\"W\")\n",
    "\n",
    "bmi_label.grid(row=7, column=0, padx=5, pady=5, sticky=\"E\")\n",
    "entry_bmi.grid(row=7, column=1, padx=5, pady=5, sticky=\"W\")\n",
    "\n",
    "residencia_label.grid(row=8, column=0, padx=5, pady=5, sticky=\"E\")\n",
    "combo_residencia.grid(row=8, column=1, padx=5, pady=5, sticky=\"W\")\n",
    "\n",
    "fumante_label.grid(row=9, column=0, padx=5, pady=5, sticky=\"E\")\n",
    "combo_fumante.grid(row=9, column=1, padx=5, pady=5, sticky=\"W\")\n",
    "\n",
    "botao_prever.grid(row=10, column=0, columnspan=2, pady=10)\n",
    "\n",
    "resultado_label.grid(row=11, column=0, columnspan=2)"
   ]
  },
  {
   "cell_type": "markdown",
   "id": "89475f27-b078-4a0a-aeaa-bc47a6f81017",
   "metadata": {},
   "source": [
    "### Rodando o programa"
   ]
  },
  {
   "cell_type": "code",
   "execution_count": null,
   "id": "6d3d0a63-ab22-4df1-aa74-cf36a863e9b7",
   "metadata": {},
   "outputs": [],
   "source": [
    "janela.mainloop()"
   ]
  }
 ],
 "metadata": {
  "kernelspec": {
   "display_name": "Python 3 (ipykernel)",
   "language": "python",
   "name": "python3"
  },
  "language_info": {
   "codemirror_mode": {
    "name": "ipython",
    "version": 3
   },
   "file_extension": ".py",
   "mimetype": "text/x-python",
   "name": "python",
   "nbconvert_exporter": "python",
   "pygments_lexer": "ipython3",
   "version": "3.9.13"
  }
 },
 "nbformat": 4,
 "nbformat_minor": 5
}
